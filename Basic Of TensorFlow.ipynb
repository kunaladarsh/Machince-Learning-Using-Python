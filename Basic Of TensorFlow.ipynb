{
  "cells": [
    {
      "cell_type": "markdown",
      "source": [
        "Basic Of TensorFlow"
      ],
      "metadata": {
        "id": "nYFMBO1zWLoC"
      }
    },
    {
      "cell_type": "code",
      "execution_count": null,
      "metadata": {
        "colab": {
          "base_uri": "https://localhost:8080/"
        },
        "id": "sISZ53psDNJp",
        "outputId": "ca6ee95d-5333-4a03-9201-16d1289d294e"
      },
      "outputs": [
        {
          "name": "stdout",
          "output_type": "stream",
          "text": [
            "Looking in indexes: https://pypi.org/simple, https://us-python.pkg.dev/colab-wheels/public/simple/\n",
            "Requirement already satisfied: torch in /usr/local/lib/python3.7/dist-packages (1.12.1+cu113)\n",
            "Requirement already satisfied: typing-extensions in /usr/local/lib/python3.7/dist-packages (from torch) (4.1.1)\n"
          ]
        }
      ],
      "source": [
        "pip install torch\n"
      ]
    },
    {
      "cell_type": "code",
      "execution_count": null,
      "metadata": {
        "id": "FIxQEO64D4ju"
      },
      "outputs": [],
      "source": [
        "import torch\n",
        "import math\n",
        "import numpy as np"
      ]
    },
    {
      "cell_type": "code",
      "execution_count": null,
      "metadata": {
        "colab": {
          "base_uri": "https://localhost:8080/"
        },
        "id": "r-eaoa__FAYN",
        "outputId": "59fbeb04-201e-420e-b4a6-1b7d53f99c39"
      },
      "outputs": [
        {
          "name": "stdout",
          "output_type": "stream",
          "text": [
            "tensor([[1, 2],\n",
            "        [4, 5]])\n"
          ]
        }
      ],
      "source": [
        "data = [[1, 2], [4, 5]]\n",
        "X_data = torch.tensor(data)\n",
        "print(X_data)"
      ]
    },
    {
      "cell_type": "code",
      "execution_count": null,
      "metadata": {
        "id": "J_82rEYvHC0v"
      },
      "outputs": [],
      "source": []
    },
    {
      "cell_type": "code",
      "execution_count": null,
      "metadata": {
        "colab": {
          "base_uri": "https://localhost:8080/"
        },
        "id": "3-6kr2uRGOZp",
        "outputId": "d8eae762-e08e-4162-f077-fe9d83cbf8f2"
      },
      "outputs": [
        {
          "name": "stdout",
          "output_type": "stream",
          "text": [
            "tensor([[1., 1., 1., 1., 1.],\n",
            "        [1., 1., 1., 1., 1.],\n",
            "        [1., 1., 1., 1., 1.],\n",
            "        [1., 1., 1., 1., 1.]])\n",
            "torch.float32\n"
          ]
        }
      ],
      "source": [
        "# ways to create tensor\n",
        "Z = torch.ones(4,5)\n",
        "print(Z)\n",
        "print(Z.dtype)"
      ]
    },
    {
      "cell_type": "code",
      "execution_count": null,
      "metadata": {
        "colab": {
          "base_uri": "https://localhost:8080/"
        },
        "id": "qqdynWUfHEp9",
        "outputId": "a38b9661-8dde-4b4e-ade6-b7426f18c730"
      },
      "outputs": [
        {
          "name": "stdout",
          "output_type": "stream",
          "text": [
            "tensor([[1, 1, 1, 1, 1],\n",
            "        [1, 1, 1, 1, 1],\n",
            "        [1, 1, 1, 1, 1],\n",
            "        [1, 1, 1, 1, 1]], dtype=torch.int32)\n"
          ]
        }
      ],
      "source": [
        "a = torch.ones((4, 5), dtype= torch.int32)\n",
        "print(a)"
      ]
    },
    {
      "cell_type": "code",
      "execution_count": null,
      "metadata": {
        "colab": {
          "base_uri": "https://localhost:8080/",
          "height": 182
        },
        "id": "Ez0HpCRPLFbA",
        "outputId": "0e2ee292-cc2b-4d92-afa8-fbc21639a67a"
      },
      "outputs": [
        {
          "ename": "NameError",
          "evalue": "ignored",
          "output_type": "error",
          "traceback": [
            "\u001b[0;31m---------------------------------------------------------------------------\u001b[0m",
            "\u001b[0;31mNameError\u001b[0m                                 Traceback (most recent call last)",
            "\u001b[0;32m<ipython-input-19-9742f4e8954d>\u001b[0m in \u001b[0;36m<module>\u001b[0;34m\u001b[0m\n\u001b[0;32m----> 1\u001b[0;31m \u001b[0;32mdel\u001b[0m\u001b[0;34m(\u001b[0m\u001b[0ma\u001b[0m\u001b[0;34m)\u001b[0m\u001b[0;34m\u001b[0m\u001b[0;34m\u001b[0m\u001b[0m\n\u001b[0m\u001b[1;32m      2\u001b[0m \u001b[0mprint\u001b[0m\u001b[0;34m(\u001b[0m\u001b[0ma\u001b[0m\u001b[0;34m)\u001b[0m\u001b[0;34m\u001b[0m\u001b[0;34m\u001b[0m\u001b[0m\n",
            "\u001b[0;31mNameError\u001b[0m: name 'a' is not defined"
          ]
        }
      ],
      "source": [
        "del(a) \n",
        "print(a) ## After deleted a then its shows error when we have print a"
      ]
    },
    {
      "cell_type": "code",
      "execution_count": null,
      "metadata": {
        "colab": {
          "base_uri": "https://localhost:8080/"
        },
        "id": "eZXJdFJHNnqP",
        "outputId": "cdacb271-3597-45e4-b8aa-111580f013ff"
      },
      "outputs": [
        {
          "data": {
            "text/plain": [
              "tensor([-5.1949, -6.2621, -6.2051, -6.3586, -6.2434, -5.8923, -6.1901, -6.5713,\n",
              "        -6.9262])"
            ]
          },
          "execution_count": 27,
          "metadata": {},
          "output_type": "execute_result"
        }
      ],
      "source": [
        "a= torch.tensor([[-5.1949, -6.2621, -6.2051, -5.8983, -6.3586, -6.2434, -5.8923, -6.1901,\n",
        "         -6.5713, -6.9262]])\n",
        "\n",
        "## Delete an element from torch.Tensor\n",
        "b = a[a!=a[0,3]]\n",
        "b\n"
      ]
    },
    {
      "cell_type": "code",
      "execution_count": null,
      "metadata": {
        "colab": {
          "base_uri": "https://localhost:8080/"
        },
        "id": "7mimqPNILzFd",
        "outputId": "146075c4-2604-4091-8ca4-323c116f0924"
      },
      "outputs": [
        {
          "name": "stdout",
          "output_type": "stream",
          "text": [
            "tensor([[0.2215, 0.5859, 0.4782, 0.7411],\n",
            "        [0.3078, 0.3854, 0.3981, 0.5200],\n",
            "        [0.2445, 0.3032, 0.3300, 0.4253]])\n"
          ]
        }
      ],
      "source": [
        "## Deleting Rows in Torch Tensor\n",
        "\n",
        "a = torch.Tensor(\n",
        "    [[0.2215, 0.5859, 0.4782, 0.7411],\n",
        "    [0.3078, 0.3854, 0.3981, 0.5200],\n",
        "    [0.1363, 0.4060, 0.2030, 0.4940],\n",
        "    [0.1640, 0.6025, 0.2267, 0.7036],\n",
        "    [0.2445, 0.3032, 0.3300, 0.4253]])\n",
        "\n",
        "y = a[a[:, 0] > 0.2]\n",
        "print(y)"
      ]
    },
    {
      "cell_type": "code",
      "execution_count": null,
      "metadata": {
        "colab": {
          "base_uri": "https://localhost:8080/"
        },
        "id": "_RG_ohOrKZI4",
        "outputId": "352b341f-62e0-43fb-cf13-68fee86bb77a"
      },
      "outputs": [
        {
          "name": "stdout",
          "output_type": "stream",
          "text": [
            "tensor([[1., 1., 1.],\n",
            "        [1., 1., 1.]])\n",
            "tensor([[0., 0., 0.],\n",
            "        [0., 0., 0.]])\n",
            "tensor([[1., 1., 1.],\n",
            "        [1., 1., 1.]])\n"
          ]
        }
      ],
      "source": [
        "a = torch.ones(2, 3)\n",
        "print(a)\n",
        "\n",
        "b = torch.ones(2, 3) * torch.zeros(2, 3) *5\n",
        "print(b)\n",
        "\n",
        "print(a+b)"
      ]
    },
    {
      "cell_type": "code",
      "execution_count": null,
      "metadata": {
        "colab": {
          "base_uri": "https://localhost:8080/"
        },
        "id": "5y1CO6r1NRtr",
        "outputId": "c00c3198-1078-4c25-a9a9-6df156e3a5da"
      },
      "outputs": [
        {
          "data": {
            "text/plain": [
              "tensor([[19, 22],\n",
              "        [43, 50]])"
            ]
          },
          "execution_count": 70,
          "metadata": {},
          "output_type": "execute_result"
        }
      ],
      "source": [
        "# multiplication of torch\n",
        "a = torch.tensor([[1,2],\n",
        "                  [3,4]])\n",
        "b = torch.tensor([[5,6],\n",
        "                  [7,8]])\n",
        "torch.mm(a, b)"
      ]
    },
    {
      "cell_type": "code",
      "execution_count": null,
      "metadata": {
        "colab": {
          "base_uri": "https://localhost:8080/"
        },
        "id": "m27lkkwdPs_4",
        "outputId": "ee670579-f073-4cb0-e026-6e064addca34"
      },
      "outputs": [
        {
          "name": "stdout",
          "output_type": "stream",
          "text": [
            "tensor([-0.6356, -2.3865, -0.5229, -0.9606])\n",
            "tensor([[0.9299, 0.1052, 0.5474, 0.2506],\n",
            "        [0.3652, 0.1884, 0.7517, 0.6756],\n",
            "        [0.1796, 0.3175, 0.0558, 0.3254],\n",
            "        [0.6978, 0.2085, 0.8484, 0.8097],\n",
            "        [0.1491, 0.4997, 0.5311, 0.1841]])\n",
            "tensor([[ 0.2943, -2.2813,  0.0244, -0.7100],\n",
            "        [-0.2704, -2.1981,  0.2288, -0.2850],\n",
            "        [-0.4560, -2.0690, -0.4671, -0.6353],\n",
            "        [ 0.0622, -2.1780,  0.3254, -0.1509],\n",
            "        [-0.4864, -1.8868,  0.0081, -0.7765]])\n"
          ]
        }
      ],
      "source": [
        "#Additions of torch\n",
        "a = torch.randn(4)\n",
        "print(a)\n",
        "\n",
        "b = torch.rand(5, 4)\n",
        "print(b)\n",
        "\n",
        "c= torch.add(a, b, alpha=1)\n",
        "print(c)"
      ]
    },
    {
      "cell_type": "code",
      "execution_count": null,
      "metadata": {
        "colab": {
          "base_uri": "https://localhost:8080/"
        },
        "id": "u1W4gpSAR7AI",
        "outputId": "14b7d050-c757-4888-8753-ab28f3ea16a6"
      },
      "outputs": [
        {
          "name": "stdout",
          "output_type": "stream",
          "text": [
            "tensor([[ 1.2720, -0.6115,  0.1879]])\n",
            "\n"
          ]
        },
        {
          "data": {
            "text/plain": [
              "tensor([[ 1.5367, -0.5145,  0.3718],\n",
              "        [ 1.0043, -0.7096,  0.0018],\n",
              "        [ 1.3269, -0.5914,  0.2260]])"
            ]
          },
          "execution_count": 24,
          "metadata": {},
          "output_type": "execute_result"
        }
      ],
      "source": [
        "t = torch.randn(1, 3)\n",
        "print(t)\n",
        "t1 = torch.randn(3, 1)\n",
        "print()\n",
        "t2 = torch.randn(1, 3)\n",
        "torch.addcdiv(t, t1, t2, value=0.1)"
      ]
    },
    {
      "cell_type": "code",
      "execution_count": null,
      "metadata": {
        "colab": {
          "base_uri": "https://localhost:8080/"
        },
        "id": "DFjEiO1TUQAL",
        "outputId": "d57d3205-80bb-4c27-d3fe-7a0ae1286a04"
      },
      "outputs": [
        {
          "name": "stdout",
          "output_type": "stream",
          "text": [
            "tensor([[ 0.2999, -0.2084, -0.9781, -0.3985,  0.0846, -0.0385, -0.7214, -0.9340,\n",
            "         -1.5310],\n",
            "        [ 0.1145,  1.3336, -1.6650,  0.2398,  0.6673,  0.4568,  0.9606,  0.1613,\n",
            "          1.9430]])\n"
          ]
        },
        {
          "data": {
            "text/plain": [
              "tensor([[ 0.2999,  0.1145],\n",
              "        [-0.2084,  1.3336],\n",
              "        [-0.9781, -1.6650],\n",
              "        [-0.3985,  0.2398],\n",
              "        [ 0.0846,  0.6673],\n",
              "        [-0.0385,  0.4568],\n",
              "        [-0.7214,  0.9606],\n",
              "        [-0.9340,  0.1613],\n",
              "        [-1.5310,  1.9430]])"
            ]
          },
          "execution_count": 12,
          "metadata": {},
          "output_type": "execute_result"
        }
      ],
      "source": [
        "# Transpose\n",
        "a = torch.randn(2, 9)\n",
        "print(a)\n",
        "torch.transpose(a, 0, 1)"
      ]
    },
    {
      "cell_type": "code",
      "execution_count": null,
      "metadata": {
        "id": "6oIZECFWWffu"
      },
      "outputs": [],
      "source": []
    },
    {
      "cell_type": "code",
      "execution_count": null,
      "metadata": {
        "colab": {
          "base_uri": "https://localhost:8080/"
        },
        "id": "hEgeMyxeWfw9",
        "outputId": "e03801c9-ab4e-449d-ffa4-e238dfc1b8d6"
      },
      "outputs": [
        {
          "name": "stdout",
          "output_type": "stream",
          "text": [
            "Looking in indexes: https://pypi.org/simple, https://us-python.pkg.dev/colab-wheels/public/simple/\n",
            "Collecting functools\n",
            "  Using cached functools-0.5.tar.gz (4.9 kB)\n",
            "Building wheels for collected packages: functools\n",
            "  Building wheel for functools (setup.py) ... \u001b[?25lerror\n",
            "\u001b[31m  ERROR: Failed building wheel for functools\u001b[0m\n",
            "\u001b[?25h  Running setup.py clean for functools\n",
            "Failed to build functools\n",
            "Installing collected packages: functools\n",
            "    Running setup.py install for functools ... \u001b[?25l\u001b[?25herror\n",
            "\u001b[31mERROR: Command errored out with exit status 1: /usr/bin/python3 -u -c 'import io, os, sys, setuptools, tokenize; sys.argv[0] = '\"'\"'/tmp/pip-install-p3e8m229/functools_26ec0cc96d464f66b7cfd1e514f22fa6/setup.py'\"'\"'; __file__='\"'\"'/tmp/pip-install-p3e8m229/functools_26ec0cc96d464f66b7cfd1e514f22fa6/setup.py'\"'\"';f = getattr(tokenize, '\"'\"'open'\"'\"', open)(__file__) if os.path.exists(__file__) else io.StringIO('\"'\"'from setuptools import setup; setup()'\"'\"');code = f.read().replace('\"'\"'\\r\\n'\"'\"', '\"'\"'\\n'\"'\"');f.close();exec(compile(code, __file__, '\"'\"'exec'\"'\"'))' install --record /tmp/pip-record-6sknm7yw/install-record.txt --single-version-externally-managed --compile --install-headers /usr/local/include/python3.7/functools Check the logs for full command output.\u001b[0m\n"
          ]
        }
      ],
      "source": [
        "pip install functools"
      ]
    },
    {
      "cell_type": "code",
      "execution_count": null,
      "metadata": {
        "colab": {
          "base_uri": "https://localhost:8080/"
        },
        "id": "H5kzF3sgXHE-",
        "outputId": "a171a0b0-c870-456e-ccd5-da0a222552d2"
      },
      "outputs": [
        {
          "name": "stdout",
          "output_type": "stream",
          "text": [
            "Looking in indexes: https://pypi.org/simple, https://us-python.pkg.dev/colab-wheels/public/simple/\n",
            "Collecting tensor\n",
            "  Downloading tensor-0.3.6.tar.gz (50 kB)\n",
            "\u001b[K     |████████████████████████████████| 50 kB 4.0 MB/s \n",
            "\u001b[?25hCollecting Twisted\n",
            "  Downloading Twisted-22.4.0-py3-none-any.whl (3.1 MB)\n",
            "\u001b[K     |████████████████████████████████| 3.1 MB 13.9 MB/s \n",
            "\u001b[?25hRequirement already satisfied: PyYaml in /usr/local/lib/python3.7/dist-packages (from tensor) (6.0)\n",
            "Requirement already satisfied: protobuf in /usr/local/lib/python3.7/dist-packages (from tensor) (3.17.3)\n",
            "Collecting construct\n",
            "  Downloading construct-2.10.68.tar.gz (57 kB)\n",
            "\u001b[K     |████████████████████████████████| 57 kB 2.0 MB/s \n",
            "\u001b[?25hCollecting pysnmp\n",
            "  Downloading pysnmp-4.4.12-py2.py3-none-any.whl (296 kB)\n",
            "\u001b[K     |████████████████████████████████| 296 kB 45.5 MB/s \n",
            "\u001b[?25hRequirement already satisfied: six>=1.9 in /usr/local/lib/python3.7/dist-packages (from protobuf->tensor) (1.15.0)\n",
            "Collecting pysmi\n",
            "  Downloading pysmi-0.3.4-py2.py3-none-any.whl (80 kB)\n",
            "\u001b[K     |████████████████████████████████| 80 kB 9.6 MB/s \n",
            "\u001b[?25hRequirement already satisfied: pyasn1>=0.2.3 in /usr/local/lib/python3.7/dist-packages (from pysnmp->tensor) (0.4.8)\n",
            "Collecting pycryptodomex\n",
            "  Downloading pycryptodomex-3.15.0-cp35-abi3-manylinux2010_x86_64.whl (2.3 MB)\n",
            "\u001b[K     |████████████████████████████████| 2.3 MB 39.6 MB/s \n",
            "\u001b[?25hCollecting ply\n",
            "  Downloading ply-3.11-py2.py3-none-any.whl (49 kB)\n",
            "\u001b[K     |████████████████████████████████| 49 kB 6.9 MB/s \n",
            "\u001b[?25hCollecting constantly>=15.1\n",
            "  Downloading constantly-15.1.0-py2.py3-none-any.whl (7.9 kB)\n",
            "Collecting zope.interface>=4.4.2\n",
            "  Downloading zope.interface-5.4.0-cp37-cp37m-manylinux2010_x86_64.whl (251 kB)\n",
            "\u001b[K     |████████████████████████████████| 251 kB 48.2 MB/s \n",
            "\u001b[?25hRequirement already satisfied: attrs>=19.2.0 in /usr/local/lib/python3.7/dist-packages (from Twisted->tensor) (22.1.0)\n",
            "Collecting incremental>=21.3.0\n",
            "  Downloading incremental-21.3.0-py2.py3-none-any.whl (15 kB)\n",
            "Requirement already satisfied: typing-extensions>=3.6.5 in /usr/local/lib/python3.7/dist-packages (from Twisted->tensor) (4.1.1)\n",
            "Collecting hyperlink>=17.1.1\n",
            "  Downloading hyperlink-21.0.0-py2.py3-none-any.whl (74 kB)\n",
            "\u001b[K     |████████████████████████████████| 74 kB 1.5 MB/s \n",
            "\u001b[?25hCollecting Automat>=0.8.0\n",
            "  Downloading Automat-20.2.0-py2.py3-none-any.whl (31 kB)\n",
            "Requirement already satisfied: idna>=2.5 in /usr/local/lib/python3.7/dist-packages (from hyperlink>=17.1.1->Twisted->tensor) (2.10)\n",
            "Requirement already satisfied: setuptools in /usr/local/lib/python3.7/dist-packages (from zope.interface>=4.4.2->Twisted->tensor) (57.4.0)\n",
            "Building wheels for collected packages: tensor, construct\n",
            "  Building wheel for tensor (setup.py) ... \u001b[?25l\u001b[?25hdone\n",
            "  Created wheel for tensor: filename=tensor-0.3.6-py3-none-any.whl size=71568 sha256=25e6f5b92523b7528ef17c844b837e78d7b712ecbb4bbe86ba016c1958664bdf\n",
            "  Stored in directory: /root/.cache/pip/wheels/66/49/9d/4c43e89065768fec7ab631d87d9ac21d619b6b0b3d45de1714\n",
            "  Building wheel for construct (setup.py) ... \u001b[?25l\u001b[?25hdone\n",
            "  Created wheel for construct: filename=construct-2.10.68-py3-none-any.whl size=59227 sha256=309f6776f1beccde490dd3ee63e5c5e4c5e18d483864e8239467d8ec81ddf11f\n",
            "  Stored in directory: /root/.cache/pip/wheels/32/b9/a0/30cd99f34b5d16190994a5a110d32c44712dd33507e7de2fad\n",
            "Successfully built tensor construct\n",
            "Installing collected packages: ply, zope.interface, pysmi, pycryptodomex, incremental, hyperlink, constantly, Automat, Twisted, pysnmp, construct, tensor\n",
            "Successfully installed Automat-20.2.0 Twisted-22.4.0 constantly-15.1.0 construct-2.10.68 hyperlink-21.0.0 incremental-21.3.0 ply-3.11 pycryptodomex-3.15.0 pysmi-0.3.4 pysnmp-4.4.12 tensor-0.3.6 zope.interface-5.4.0\n"
          ]
        }
      ],
      "source": [
        "pip install tensor"
      ]
    },
    {
      "cell_type": "code",
      "execution_count": null,
      "metadata": {
        "id": "nH-jEGWFYOix"
      },
      "outputs": [],
      "source": []
    },
    {
      "cell_type": "code",
      "execution_count": null,
      "metadata": {
        "colab": {
          "base_uri": "https://localhost:8080/"
        },
        "id": "Y1hAt-MKYOnu",
        "outputId": "3fccc6ef-0ac3-4d0b-f13e-a955c58fb312"
      },
      "outputs": [
        {
          "data": {
            "text/plain": [
              "tensor([[[-5.5096, -2.5385,  2.6057, -2.1348,  2.1247],\n",
              "         [-4.7158, -3.7439, -0.6670,  1.0075,  1.1335],\n",
              "         [-0.6418,  1.4527,  0.3311,  1.0737, -2.3924]],\n",
              "\n",
              "        [[ 3.0895, -1.2942,  0.4172,  4.0271,  1.0982],\n",
              "         [ 1.0343,  1.3979, -4.4334,  5.0689,  0.6810],\n",
              "         [-2.6522,  0.7491, -1.0458,  0.5297, -0.2492]],\n",
              "\n",
              "        [[ 1.7240,  1.5765, -0.6755,  2.7695,  2.4351],\n",
              "         [-0.2088, -1.7583, -0.4197, -2.2273, -1.4908],\n",
              "         [-0.9130, -1.9423, -2.5626,  1.0984, -1.2507]],\n",
              "\n",
              "        [[-0.0783, -1.9347,  0.6697, -1.5958, -1.4109],\n",
              "         [ 0.0900,  0.9616, -1.4137, -0.0849,  0.5786],\n",
              "         [-0.5074,  0.6131,  1.9117,  2.3222,  1.4027]],\n",
              "\n",
              "        [[ 1.2375, -0.9668, -2.6222,  0.2414,  1.5779],\n",
              "         [-0.7586, -0.4048,  2.9679, -1.7032, -0.4468],\n",
              "         [-4.4229, -0.7239,  3.5951,  1.3591, -1.3586]],\n",
              "\n",
              "        [[-1.5778,  1.2308,  1.4849, -5.3333,  2.2825],\n",
              "         [-1.3358,  0.4695, -2.5003, -0.5748,  1.0964],\n",
              "         [-0.2290, -2.1960, -3.3533,  2.3101, -2.8373]],\n",
              "\n",
              "        [[ 4.2520, -0.6228, -2.2607, -0.1438, -1.4876],\n",
              "         [-1.1157, -1.2092, -2.6186, -0.8818,  0.2267],\n",
              "         [ 3.2374, -1.9896, -2.7521, -0.2992,  0.7159]],\n",
              "\n",
              "        [[ 1.7362, -0.0907, -2.9985, -0.1722, -0.1398],\n",
              "         [ 1.2360,  0.5625, -2.8855, -0.4719,  0.4265],\n",
              "         [-0.1157, -4.1226, -3.7840, -2.5649, -0.7955]],\n",
              "\n",
              "        [[-2.6416,  2.3590,  1.1430, -2.5884, -0.6923],\n",
              "         [ 2.7434, -5.5659,  5.7294, -1.6200,  1.0169],\n",
              "         [ 5.0336, -3.4835, -1.1775,  5.1998,  0.1430]],\n",
              "\n",
              "        [[-1.8014,  0.4761,  1.8988, -1.4199, -1.8858],\n",
              "         [ 1.8152,  1.3406, -2.0147, -0.2820, -0.1188],\n",
              "         [ 0.6549,  1.3960, -1.6509, -1.0519,  0.0653]]])"
            ]
          },
          "execution_count": 20,
          "metadata": {},
          "output_type": "execute_result"
        }
      ],
      "source": [
        "# multipilications of 3d matrix\n",
        "tensor1 = torch.randn(10,3,4)\n",
        "\n",
        "tensor2 = torch.randn(10,4,5)\n",
        "\n",
        "torch.matmul(tensor1, tensor2)"
      ]
    },
    {
      "cell_type": "code",
      "execution_count": null,
      "metadata": {
        "id": "pYA5InB-JRSv"
      },
      "outputs": [],
      "source": []
    },
    {
      "cell_type": "code",
      "execution_count": null,
      "metadata": {
        "colab": {
          "base_uri": "https://localhost:8080/"
        },
        "id": "V7lILTfaYOrn",
        "outputId": "6fd62b1e-93b2-4632-e3e0-bf63158f9fed"
      },
      "outputs": [
        {
          "name": "stdout",
          "output_type": "stream",
          "text": [
            "tensor([[-0.5807, -1.8043,  1.1848, -0.3676, -0.2289],\n",
            "        [ 0.3841,  0.7871, -1.3551,  0.6142,  0.9675],\n",
            "        [-1.9165, -0.0682,  0.1591,  0.8380,  1.0279]])\n",
            "tensor([[-1.6073, -2.0620,  0.9902,  0.2007, -1.0102, -0.9114, -0.7133, -0.9107,\n",
            "          0.2569],\n",
            "        [-1.4476,  0.5601,  2.2683, -0.2001, -0.2253,  0.9605,  1.1885, -0.1156,\n",
            "          0.9119],\n",
            "        [ 2.9280, -0.1091, -0.0041,  0.0629, -1.6312, -0.1928,  0.5039,  1.4286,\n",
            "         -1.1221],\n",
            "        [-0.9253, -0.4978,  0.1772,  0.6494, -0.5136, -0.2438, -0.3823, -0.1395,\n",
            "          0.2948],\n",
            "        [ 0.5168, -0.8286,  0.3935,  1.7352, -0.4638,  0.4991, -0.0395,  0.8228,\n",
            "          0.2162]])\n"
          ]
        }
      ],
      "source": [
        "a = torch.randn(3, 5)\n",
        "b = torch.randn(5, 9) \n",
        "print(a)\n",
        "print(b)"
      ]
    },
    {
      "cell_type": "code",
      "execution_count": null,
      "metadata": {
        "id": "bRDOj6u_JSz6"
      },
      "outputs": [],
      "source": []
    },
    {
      "cell_type": "code",
      "execution_count": null,
      "metadata": {
        "colab": {
          "base_uri": "https://localhost:8080/"
        },
        "id": "t4Z5kd1xGI4T",
        "outputId": "f48f2036-0e42-4a2f-adce-e0d387b9145f"
      },
      "outputs": [
        {
          "name": "stdout",
          "output_type": "stream",
          "text": [
            "Looking in indexes: https://pypi.org/simple, https://us-python.pkg.dev/colab-wheels/public/simple/\n",
            "Collecting tf\n",
            "  Downloading tf-1.0.0.tar.gz (620 bytes)\n",
            "Building wheels for collected packages: tf\n",
            "  Building wheel for tf (setup.py) ... \u001b[?25l\u001b[?25hdone\n",
            "  Created wheel for tf: filename=tf-1.0.0-py3-none-any.whl size=1285 sha256=9173f0ae0d3a3297956bbd5ecc77b1ce7a9b5f765fe5382b507c8fe572d5bf25\n",
            "  Stored in directory: /root/.cache/pip/wheels/db/c7/58/cca67875b41ff853d3fdaa20b54a780ef2e045fbcacaef1ee3\n",
            "Successfully built tf\n",
            "Installing collected packages: tf\n",
            "Successfully installed tf-1.0.0\n"
          ]
        }
      ],
      "source": [
        "pip install tf"
      ]
    },
    {
      "cell_type": "code",
      "execution_count": null,
      "metadata": {
        "id": "Of0J07biJUJT"
      },
      "outputs": [],
      "source": []
    },
    {
      "cell_type": "code",
      "execution_count": null,
      "metadata": {
        "colab": {
          "base_uri": "https://localhost:8080/"
        },
        "id": "so_DveqGAKsR",
        "outputId": "e91bf64e-66ae-4802-f855-4a72d2c45ff4"
      },
      "outputs": [
        {
          "name": "stdout",
          "output_type": "stream",
          "text": [
            "<tf.Variable 'Variable:0' shape=(3, 4) dtype=int32, numpy=\n",
            "array([[0, 0, 0, 0],\n",
            "       [2, 2, 2, 2],\n",
            "       [1, 1, 1, 1]], dtype=int32)>\n",
            "tf.Tensor(\n",
            "[[0 0 0 0]\n",
            " [1 1 1 1]], shape=(2, 4), dtype=int32)\n"
          ]
        }
      ],
      "source": [
        "import tensorflow as tf\n",
        "a = tf.Variable(initial_value=[[0, 0, 0, 0],[2, 2, 2, 2],[1, 1, 1, 1]]) \n",
        "b = tf.stack([a[0], a[2]])\n",
        "c = tf.stack([a[0], a[1]])\n",
        "print(a)\n",
        "print(b)"
      ]
    },
    {
      "cell_type": "code",
      "execution_count": null,
      "metadata": {
        "colab": {
          "base_uri": "https://localhost:8080/"
        },
        "id": "osMZ61wNKZfB",
        "outputId": "41df20be-1b64-42ed-bf71-3f829d725b1e"
      },
      "outputs": [
        {
          "data": {
            "text/plain": [
              "tensor([[0., 0., 0.],\n",
              "        [0., 0., 0.]], names=('N', 'C'))"
            ]
          },
          "execution_count": 43,
          "metadata": {},
          "output_type": "execute_result"
        }
      ],
      "source": [
        "A = torch.zeros(2, 3, names= ('N', 'C'))\n",
        "A"
      ]
    },
    {
      "cell_type": "code",
      "execution_count": null,
      "metadata": {
        "id": "iyBPUw9fQB7a"
      },
      "outputs": [],
      "source": []
    },
    {
      "cell_type": "code",
      "execution_count": null,
      "metadata": {
        "colab": {
          "base_uri": "https://localhost:8080/"
        },
        "id": "hziNyQpmQB_A",
        "outputId": "46c0212e-ad3f-4e6b-c2cf-d36bb7383d33"
      },
      "outputs": [
        {
          "name": "stdout",
          "output_type": "stream",
          "text": [
            "tensor([[[ 2.8262, -0.0726, -2.6922,  0.5830, -0.0879],\n",
            "         [-3.9973,  3.4952,  1.4925,  0.7779, -2.9439],\n",
            "         [-3.1483,  1.9090,  0.7571,  0.6202, -2.5945]],\n",
            "\n",
            "        [[-1.2987,  1.8007, -1.0808,  3.4742, -2.8635],\n",
            "         [ 4.7337, -1.4570, -1.6370, -0.6989,  5.5131],\n",
            "         [ 0.4138, -0.5372, -0.1161, -0.6642,  0.5728]],\n",
            "\n",
            "        [[-0.1487,  0.9130,  0.1701,  0.3565, -0.1340],\n",
            "         [ 2.8415,  3.5647,  2.5061,  0.6771, -1.4570],\n",
            "         [-1.4174, -2.4689, -2.3766,  0.1448, -0.5754]],\n",
            "\n",
            "        [[ 0.0341, -0.6894,  0.8794, -1.9717, -1.9035],\n",
            "         [-1.4477,  0.0937,  0.0280,  3.2440,  3.1393],\n",
            "         [-1.7049, -2.3928,  3.4973, -2.8269, -4.5229]],\n",
            "\n",
            "        [[ 1.4007, -1.5283, -0.4425, -1.4708,  2.2114],\n",
            "         [ 0.5855, -1.1076, -0.6525, -1.1745,  1.2420],\n",
            "         [ 1.0121, -4.4782,  0.0620, -1.8795,  6.5535]],\n",
            "\n",
            "        [[ 2.2268,  3.2241, -3.2421, -0.4096,  1.3557],\n",
            "         [ 0.0629, -1.1906,  0.7482,  0.7330, -0.6171],\n",
            "         [ 0.2008,  3.5414,  3.7220, -1.0818,  2.1543]],\n",
            "\n",
            "        [[ 0.5446, -0.5863,  2.5631, -0.4472, -1.7437],\n",
            "         [ 0.8085,  0.0740, -0.6618,  0.1789,  0.0416],\n",
            "         [-3.0235, -1.2002, -1.0918,  2.0542,  1.3749]],\n",
            "\n",
            "        [[-0.7109,  5.2966,  1.3724, -0.9036,  2.6708],\n",
            "         [-3.0367,  4.3437,  2.9912,  3.6572,  5.6619],\n",
            "         [ 0.5634,  0.8355, -3.2046, -0.6518, -1.8417]],\n",
            "\n",
            "        [[ 2.8080,  1.9071,  3.1994, -2.9847, -1.9002],\n",
            "         [-2.4397, -3.5442,  0.4281,  0.6266, -1.3361],\n",
            "         [ 5.3226,  7.8928, -1.5110, -0.8397,  3.1953]],\n",
            "\n",
            "        [[ 2.0364,  0.3529,  0.1066,  1.1013, -2.5432],\n",
            "         [-3.7758, -1.5719,  2.4700,  2.3075, -1.1453],\n",
            "         [ 3.1313,  2.9953, -2.6326, -2.8142,  0.5479]]])\n"
          ]
        },
        {
          "name": "stderr",
          "output_type": "stream",
          "text": [
            "/usr/local/lib/python3.7/dist-packages/ipykernel_launcher.py:7: UserWarning: To copy construct from a tensor, it is recommended to use sourceTensor.clone().detach() or sourceTensor.clone().detach().requires_grad_(True), rather than torch.tensor(sourceTensor).\n",
            "  import sys\n"
          ]
        },
        {
          "data": {
            "text/plain": [
              "torch.return_types.aminmax(\n",
              "min=tensor([[[-1.2987, -1.5283, -3.2421, -2.9847, -2.8635],\n",
              "         [-3.9973, -3.5442, -1.6370, -1.1745, -2.9439],\n",
              "         [-3.1483, -4.4782, -3.2046, -2.8269, -4.5229]]]),\n",
              "max=tensor([[[2.8262, 5.2966, 3.1994, 3.4742, 2.6708],\n",
              "         [4.7337, 4.3437, 2.9912, 3.6572, 5.6619],\n",
              "         [5.3226, 7.8928, 3.7220, 2.0542, 6.5535]]]))"
            ]
          },
          "execution_count": 80,
          "metadata": {},
          "output_type": "execute_result"
        }
      ],
      "source": [
        "tensor1 = torch.randn(10,3,4)\n",
        "tensor2 = torch.randn(10,4,5)\n",
        "\n",
        "c= torch.matmul(tensor1, tensor2)\n",
        "print(c)\n",
        "\n",
        "torch.aminmax(torch.tensor(c))"
      ]
    },
    {
      "cell_type": "code",
      "execution_count": null,
      "metadata": {
        "colab": {
          "base_uri": "https://localhost:8080/"
        },
        "id": "u1E53LOuRKIV",
        "outputId": "19299974-fb2b-4a56-fb7e-7b3f42cc9817"
      },
      "outputs": [
        {
          "data": {
            "text/plain": [
              "torch.return_types.aminmax(\n",
              "min=tensor(-3),\n",
              "max=tensor(5))"
            ]
          },
          "execution_count": 66,
          "metadata": {},
          "output_type": "execute_result"
        }
      ],
      "source": [
        "torch.aminmax(torch.tensor([1, -3, 5, torch.nan]))"
      ]
    },
    {
      "cell_type": "code",
      "execution_count": null,
      "metadata": {
        "colab": {
          "base_uri": "https://localhost:8080/"
        },
        "id": "ajo_XIymR_-6",
        "outputId": "01b37c0b-b963-47fa-90ba-27b0d71b82f5"
      },
      "outputs": [
        {
          "data": {
            "text/plain": [
              "torch.return_types.aminmax(\n",
              "min=tensor([[0, 1, 2, 3, 4]]),\n",
              "max=tensor([[5, 6, 7, 8, 9]]))"
            ]
          },
          "execution_count": 79,
          "metadata": {},
          "output_type": "execute_result"
        }
      ],
      "source": [
        " t = torch.arange(10).view(2, 5)\n",
        " t\n",
        "\n",
        " t.aminmax(dim=0, keepdim=True)"
      ]
    },
    {
      "cell_type": "code",
      "execution_count": null,
      "metadata": {
        "colab": {
          "base_uri": "https://localhost:8080/"
        },
        "id": "TBzXxKRXTx5z",
        "outputId": "d8dc11bb-1a48-4846-b03f-5293150472e2"
      },
      "outputs": [
        {
          "name": "stdout",
          "output_type": "stream",
          "text": [
            "tensor([[ 0.1706,  1.5834, -0.9866,  0.5686,  0.3274],\n",
            "        [ 1.4340, -2.0955, -0.8827, -0.0631,  0.0470],\n",
            "        [ 0.5672, -1.2155, -0.7901, -0.0452, -0.8255]])\n"
          ]
        },
        {
          "data": {
            "text/plain": [
              "torch.return_types.aminmax(\n",
              "min=tensor([[ 0.1706, -2.0955, -0.9866, -0.0631, -0.8255]]),\n",
              "max=tensor([[ 1.4340,  1.5834, -0.7901,  0.5686,  0.3274]]))"
            ]
          },
          "execution_count": 84,
          "metadata": {},
          "output_type": "execute_result"
        }
      ],
      "source": [
        "a = torch.randn(3, 5)\n",
        "print(a)\n",
        "a.aminmax(dim=0, keepdim=True)"
      ]
    },
    {
      "cell_type": "code",
      "execution_count": null,
      "metadata": {
        "colab": {
          "base_uri": "https://localhost:8080/"
        },
        "id": "yZV_tEnXUdjD",
        "outputId": "639b2272-ef1d-464e-c0a8-2ff4bca6d1af"
      },
      "outputs": [
        {
          "data": {
            "text/plain": [
              "tensor([[True, True],\n",
              "        [True, True],\n",
              "        [True, True],\n",
              "        [True, True]])"
            ]
          },
          "execution_count": 102,
          "metadata": {},
          "output_type": "execute_result"
        }
      ],
      "source": [
        "a = torch.rand(5,2).bool()\n",
        "a"
      ]
    },
    {
      "cell_type": "code",
      "execution_count": null,
      "metadata": {
        "colab": {
          "base_uri": "https://localhost:8080/"
        },
        "id": "yc7zi04lUo72",
        "outputId": "1c8317d2-2d95-4ce9-a084-67a76b4c1500"
      },
      "outputs": [
        {
          "data": {
            "text/plain": [
              "tensor([True, True, True, True])"
            ]
          },
          "execution_count": 91,
          "metadata": {},
          "output_type": "execute_result"
        }
      ],
      "source": [
        "torch.all(a, dim=1)"
      ]
    },
    {
      "cell_type": "code",
      "execution_count": null,
      "metadata": {
        "colab": {
          "base_uri": "https://localhost:8080/"
        },
        "id": "McGFq6X-VA1-",
        "outputId": "6aef887f-69ca-438f-a1bb-1712d5dd3027"
      },
      "outputs": [
        {
          "data": {
            "text/plain": [
              "tensor([True, True])"
            ]
          },
          "execution_count": 92,
          "metadata": {},
          "output_type": "execute_result"
        }
      ],
      "source": [
        "torch.all(a, dim=0)"
      ]
    },
    {
      "cell_type": "code",
      "execution_count": null,
      "metadata": {
        "colab": {
          "base_uri": "https://localhost:8080/"
        },
        "id": "Tcks-ffyXYCb",
        "outputId": "91cba881-053e-42d4-aa3a-42fe73acb8e5"
      },
      "outputs": [
        {
          "data": {
            "text/plain": [
              "torch.return_types.max(\n",
              "values=tensor([False,  True,  True, False, False,  True,  True]),\n",
              "indices=tensor([0, 0, 0, 0, 0, 1, 0]))"
            ]
          },
          "execution_count": 114,
          "metadata": {},
          "output_type": "execute_result"
        }
      ],
      "source": [
        "a = torch.randn(7, 3) <0\n",
        "a\n",
        "torch.max(a, 1)"
      ]
    },
    {
      "cell_type": "code",
      "execution_count": null,
      "metadata": {
        "colab": {
          "base_uri": "https://localhost:8080/"
        },
        "id": "NVT3jIGEXrIy",
        "outputId": "61ecf150-face-441a-86b9-b6d0eb36bc84"
      },
      "outputs": [
        {
          "data": {
            "text/plain": [
              "tensor([ True,  True, False,  True,  True,  True,  True])"
            ]
          },
          "execution_count": 111,
          "metadata": {},
          "output_type": "execute_result"
        }
      ],
      "source": [
        "torch.any(a, 1)"
      ]
    },
    {
      "cell_type": "code",
      "execution_count": null,
      "metadata": {
        "colab": {
          "base_uri": "https://localhost:8080/",
          "height": 165
        },
        "id": "W2aQIaoPXx7x",
        "outputId": "c9faaea7-5582-4f8f-8f11-f1740093e568"
      },
      "outputs": [
        {
          "ename": "NameError",
          "evalue": "ignored",
          "output_type": "error",
          "traceback": [
            "\u001b[0;31m---------------------------------------------------------------------------\u001b[0m",
            "\u001b[0;31mNameError\u001b[0m                                 Traceback (most recent call last)",
            "\u001b[0;32m<ipython-input-1-23d401c9b478>\u001b[0m in \u001b[0;36m<module>\u001b[0;34m\u001b[0m\n\u001b[0;32m----> 1\u001b[0;31m \u001b[0mtorch\u001b[0m\u001b[0;34m.\u001b[0m\u001b[0many\u001b[0m\u001b[0;34m(\u001b[0m\u001b[0ma\u001b[0m\u001b[0;34m,\u001b[0m \u001b[0;36m0\u001b[0m\u001b[0;34m)\u001b[0m\u001b[0;34m\u001b[0m\u001b[0;34m\u001b[0m\u001b[0m\n\u001b[0m",
            "\u001b[0;31mNameError\u001b[0m: name 'torch' is not defined"
          ]
        }
      ],
      "source": [
        "torch.any(a, 0)"
      ]
    },
    {
      "cell_type": "code",
      "execution_count": null,
      "metadata": {
        "colab": {
          "base_uri": "https://localhost:8080/",
          "height": 624
        },
        "id": "XYfppsBmYFsZ",
        "outputId": "103cc594-8fc0-4fa9-badc-755e7e4a6773"
      },
      "outputs": [
        {
          "data": {
            "text/html": [
              "\n",
              "  <div id=\"df-2e7b4a1f-8f72-4180-a33e-0e6d01a48f2b\">\n",
              "    <div class=\"colab-df-container\">\n",
              "      <div>\n",
              "<style scoped>\n",
              "    .dataframe tbody tr th:only-of-type {\n",
              "        vertical-align: middle;\n",
              "    }\n",
              "\n",
              "    .dataframe tbody tr th {\n",
              "        vertical-align: top;\n",
              "    }\n",
              "\n",
              "    .dataframe thead th {\n",
              "        text-align: right;\n",
              "    }\n",
              "</style>\n",
              "<table border=\"1\" class=\"dataframe\">\n",
              "  <thead>\n",
              "    <tr style=\"text-align: right;\">\n",
              "      <th></th>\n",
              "      <th>Unnamed: 0</th>\n",
              "      <th>Unnamed: 1</th>\n",
              "      <th>Unnamed: 2</th>\n",
              "      <th>Unnamed: 3</th>\n",
              "      <th>Unnamed: 4</th>\n",
              "      <th>Unnamed: 5</th>\n",
              "    </tr>\n",
              "  </thead>\n",
              "  <tbody>\n",
              "    <tr>\n",
              "      <th>0</th>\n",
              "      <td>Name</td>\n",
              "      <td>Sport</td>\n",
              "      <td>Nationality</td>\n",
              "      <td>Age</td>\n",
              "      <td>Wt kg</td>\n",
              "      <td>Ht</td>\n",
              "    </tr>\n",
              "    <tr>\n",
              "      <th>1</th>\n",
              "      <td>ABBAS Muhammad</td>\n",
              "      <td>Alpine Skiing</td>\n",
              "      <td>Pakistan</td>\n",
              "      <td>23</td>\n",
              "      <td>55</td>\n",
              "      <td>168</td>\n",
              "    </tr>\n",
              "    <tr>\n",
              "      <th>2</th>\n",
              "      <td>ABBOTT Jeremy</td>\n",
              "      <td>Figure Skating</td>\n",
              "      <td>United States</td>\n",
              "      <td>24</td>\n",
              "      <td>NaN</td>\n",
              "      <td>175</td>\n",
              "    </tr>\n",
              "    <tr>\n",
              "      <th>3</th>\n",
              "      <td>ABLAEV Enver</td>\n",
              "      <td>Freestyle Skiing</td>\n",
              "      <td>Ukraine</td>\n",
              "      <td>30</td>\n",
              "      <td>68</td>\n",
              "      <td>169</td>\n",
              "    </tr>\n",
              "    <tr>\n",
              "      <th>4</th>\n",
              "      <td>ABRAMASHVILI Iason</td>\n",
              "      <td>Alpine Skiing</td>\n",
              "      <td>Georgia</td>\n",
              "      <td>21</td>\n",
              "      <td>82</td>\n",
              "      <td>176</td>\n",
              "    </tr>\n",
              "    <tr>\n",
              "      <th>...</th>\n",
              "      <td>...</td>\n",
              "      <td>...</td>\n",
              "      <td>...</td>\n",
              "      <td>...</td>\n",
              "      <td>...</td>\n",
              "      <td>...</td>\n",
              "    </tr>\n",
              "    <tr>\n",
              "      <th>2602</th>\n",
              "      <td>ZUEV Stepan</td>\n",
              "      <td>Alpine Skiing</td>\n",
              "      <td>Russia</td>\n",
              "      <td>21</td>\n",
              "      <td>90</td>\n",
              "      <td>189</td>\n",
              "    </tr>\n",
              "    <tr>\n",
              "      <th>2603</th>\n",
              "      <td>ZURBRIGGEN Silvan</td>\n",
              "      <td>Alpine Skiing</td>\n",
              "      <td>Switzerland</td>\n",
              "      <td>28</td>\n",
              "      <td>94</td>\n",
              "      <td>185</td>\n",
              "    </tr>\n",
              "    <tr>\n",
              "      <th>2604</th>\n",
              "      <td>ZUZULOVA Veronika</td>\n",
              "      <td>Alpine Skiing</td>\n",
              "      <td>Slovakia</td>\n",
              "      <td>25</td>\n",
              "      <td>72</td>\n",
              "      <td>172</td>\n",
              "    </tr>\n",
              "    <tr>\n",
              "      <th>2605</th>\n",
              "      <td>ZVARICOVA Veronika</td>\n",
              "      <td>Biathlon</td>\n",
              "      <td>Czech Republic</td>\n",
              "      <td>21</td>\n",
              "      <td>62</td>\n",
              "      <td>176</td>\n",
              "    </tr>\n",
              "    <tr>\n",
              "      <th>2606</th>\n",
              "      <td>ZVEJNIEKS Kristaps</td>\n",
              "      <td>Alpine Skiing</td>\n",
              "      <td>Latvia</td>\n",
              "      <td>17</td>\n",
              "      <td>87</td>\n",
              "      <td>185</td>\n",
              "    </tr>\n",
              "  </tbody>\n",
              "</table>\n",
              "<p>2607 rows × 6 columns</p>\n",
              "</div>\n",
              "      <button class=\"colab-df-convert\" onclick=\"convertToInteractive('df-2e7b4a1f-8f72-4180-a33e-0e6d01a48f2b')\"\n",
              "              title=\"Convert this dataframe to an interactive table.\"\n",
              "              style=\"display:none;\">\n",
              "        \n",
              "  <svg xmlns=\"http://www.w3.org/2000/svg\" height=\"24px\"viewBox=\"0 0 24 24\"\n",
              "       width=\"24px\">\n",
              "    <path d=\"M0 0h24v24H0V0z\" fill=\"none\"/>\n",
              "    <path d=\"M18.56 5.44l.94 2.06.94-2.06 2.06-.94-2.06-.94-.94-2.06-.94 2.06-2.06.94zm-11 1L8.5 8.5l.94-2.06 2.06-.94-2.06-.94L8.5 2.5l-.94 2.06-2.06.94zm10 10l.94 2.06.94-2.06 2.06-.94-2.06-.94-.94-2.06-.94 2.06-2.06.94z\"/><path d=\"M17.41 7.96l-1.37-1.37c-.4-.4-.92-.59-1.43-.59-.52 0-1.04.2-1.43.59L10.3 9.45l-7.72 7.72c-.78.78-.78 2.05 0 2.83L4 21.41c.39.39.9.59 1.41.59.51 0 1.02-.2 1.41-.59l7.78-7.78 2.81-2.81c.8-.78.8-2.07 0-2.86zM5.41 20L4 18.59l7.72-7.72 1.47 1.35L5.41 20z\"/>\n",
              "  </svg>\n",
              "      </button>\n",
              "      \n",
              "  <style>\n",
              "    .colab-df-container {\n",
              "      display:flex;\n",
              "      flex-wrap:wrap;\n",
              "      gap: 12px;\n",
              "    }\n",
              "\n",
              "    .colab-df-convert {\n",
              "      background-color: #E8F0FE;\n",
              "      border: none;\n",
              "      border-radius: 50%;\n",
              "      cursor: pointer;\n",
              "      display: none;\n",
              "      fill: #1967D2;\n",
              "      height: 32px;\n",
              "      padding: 0 0 0 0;\n",
              "      width: 32px;\n",
              "    }\n",
              "\n",
              "    .colab-df-convert:hover {\n",
              "      background-color: #E2EBFA;\n",
              "      box-shadow: 0px 1px 2px rgba(60, 64, 67, 0.3), 0px 1px 3px 1px rgba(60, 64, 67, 0.15);\n",
              "      fill: #174EA6;\n",
              "    }\n",
              "\n",
              "    [theme=dark] .colab-df-convert {\n",
              "      background-color: #3B4455;\n",
              "      fill: #D2E3FC;\n",
              "    }\n",
              "\n",
              "    [theme=dark] .colab-df-convert:hover {\n",
              "      background-color: #434B5C;\n",
              "      box-shadow: 0px 1px 3px 1px rgba(0, 0, 0, 0.15);\n",
              "      filter: drop-shadow(0px 1px 2px rgba(0, 0, 0, 0.3));\n",
              "      fill: #FFFFFF;\n",
              "    }\n",
              "  </style>\n",
              "\n",
              "      <script>\n",
              "        const buttonEl =\n",
              "          document.querySelector('#df-2e7b4a1f-8f72-4180-a33e-0e6d01a48f2b button.colab-df-convert');\n",
              "        buttonEl.style.display =\n",
              "          google.colab.kernel.accessAllowed ? 'block' : 'none';\n",
              "\n",
              "        async function convertToInteractive(key) {\n",
              "          const element = document.querySelector('#df-2e7b4a1f-8f72-4180-a33e-0e6d01a48f2b');\n",
              "          const dataTable =\n",
              "            await google.colab.kernel.invokeFunction('convertToInteractive',\n",
              "                                                     [key], {});\n",
              "          if (!dataTable) return;\n",
              "\n",
              "          const docLinkHtml = 'Like what you see? Visit the ' +\n",
              "            '<a target=\"_blank\" href=https://colab.research.google.com/notebooks/data_table.ipynb>data table notebook</a>'\n",
              "            + ' to learn more about interactive tables.';\n",
              "          element.innerHTML = '';\n",
              "          dataTable['output_type'] = 'display_data';\n",
              "          await google.colab.output.renderOutput(dataTable, element);\n",
              "          const docLink = document.createElement('div');\n",
              "          docLink.innerHTML = docLinkHtml;\n",
              "          element.appendChild(docLink);\n",
              "        }\n",
              "      </script>\n",
              "    </div>\n",
              "  </div>\n",
              "  "
            ],
            "text/plain": [
              "              Unnamed: 0        Unnamed: 1      Unnamed: 2 Unnamed: 3  \\\n",
              "0                   Name             Sport     Nationality        Age   \n",
              "1         ABBAS Muhammad     Alpine Skiing        Pakistan         23   \n",
              "2          ABBOTT Jeremy    Figure Skating   United States         24   \n",
              "3           ABLAEV Enver  Freestyle Skiing         Ukraine         30   \n",
              "4     ABRAMASHVILI Iason     Alpine Skiing         Georgia         21   \n",
              "...                  ...               ...             ...        ...   \n",
              "2602         ZUEV Stepan     Alpine Skiing          Russia         21   \n",
              "2603   ZURBRIGGEN Silvan     Alpine Skiing     Switzerland         28   \n",
              "2604   ZUZULOVA Veronika     Alpine Skiing        Slovakia         25   \n",
              "2605  ZVARICOVA Veronika          Biathlon  Czech Republic         21   \n",
              "2606  ZVEJNIEKS Kristaps     Alpine Skiing          Latvia         17   \n",
              "\n",
              "     Unnamed: 4 Unnamed: 5  \n",
              "0         Wt kg         Ht  \n",
              "1            55        168  \n",
              "2           NaN        175  \n",
              "3            68        169  \n",
              "4            82        176  \n",
              "...         ...        ...  \n",
              "2602         90        189  \n",
              "2603         94        185  \n",
              "2604         72        172  \n",
              "2605         62        176  \n",
              "2606         87        185  \n",
              "\n",
              "[2607 rows x 6 columns]"
            ]
          },
          "execution_count": 17,
          "metadata": {},
          "output_type": "execute_result"
        }
      ],
      "source": [
        "import pandas as pd\n",
        "import numpy as np\n",
        "import matplotlib.pyplot as plt\n",
        "import tensorflow as tf\n",
        "\n",
        "data = pd.read_csv('sampledata.csv',encoding=\"ISO-8859-1\")\n",
        "data"
      ]
    },
    {
      "cell_type": "code",
      "execution_count": null,
      "metadata": {
        "colab": {
          "background_save": true
        },
        "id": "9ng0rqcLKkXu"
      },
      "outputs": [],
      "source": [
        "import torch\n",
        "def describe_tensor(tensor, Name= ''):\n",
        "  print('name: ', Name)\n",
        "  print(Age)"
      ]
    },
    {
      "cell_type": "code",
      "execution_count": null,
      "metadata": {
        "id": "KC9ibiyfKkbM"
      },
      "outputs": [],
      "source": []
    }
  ],
  "metadata": {
    "colab": {
      "provenance": []
    },
    "kernelspec": {
      "display_name": "Python 3",
      "name": "python3"
    },
    "language_info": {
      "name": "python"
    }
  },
  "nbformat": 4,
  "nbformat_minor": 0
}