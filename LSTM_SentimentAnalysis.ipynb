{
  "cells": [
    {
      "cell_type": "code",
      "source": [
        "pip install Keras-Preprocessing\n"
      ],
      "metadata": {
        "colab": {
          "base_uri": "https://localhost:8080/"
        },
        "id": "TJaTB_GRs6Zv",
        "outputId": "d9bab0eb-3c39-43db-cd69-ef23d8196c55"
      },
      "id": "TJaTB_GRs6Zv",
      "execution_count": 2,
      "outputs": [
        {
          "output_type": "stream",
          "name": "stdout",
          "text": [
            "Looking in indexes: https://pypi.org/simple, https://us-python.pkg.dev/colab-wheels/public/simple/\n",
            "Requirement already satisfied: Keras-Preprocessing in /usr/local/lib/python3.8/dist-packages (1.1.2)\n",
            "Requirement already satisfied: six>=1.9.0 in /usr/local/lib/python3.8/dist-packages (from Keras-Preprocessing) (1.15.0)\n",
            "Requirement already satisfied: numpy>=1.9.1 in /usr/local/lib/python3.8/dist-packages (from Keras-Preprocessing) (1.21.6)\n"
          ]
        }
      ]
    },
    {
      "cell_type": "code",
      "execution_count": 3,
      "id": "526dda65",
      "metadata": {
        "id": "526dda65",
        "outputId": "2a388255-4541-4ab0-c5b1-36fa26068a16",
        "colab": {
          "base_uri": "https://localhost:8080/"
        }
      },
      "outputs": [
        {
          "output_type": "stream",
          "name": "stderr",
          "text": [
            "[nltk_data] Downloading package punkt to /root/nltk_data...\n",
            "[nltk_data]   Package punkt is already up-to-date!\n"
          ]
        },
        {
          "output_type": "execute_result",
          "data": {
            "text/plain": [
              "True"
            ]
          },
          "metadata": {},
          "execution_count": 3
        }
      ],
      "source": [
        "#To Create a DataFrame \n",
        "import pandas as pd\n",
        "#Use of arrays in Python\n",
        "import numpy as np\n",
        "#For Plotting the accuracy\n",
        "import matplotlib.pyplot as plt\n",
        "import seaborn as sns\n",
        "#Natural Language Toolkit for NLP related work\n",
        "import nltk\n",
        "\n",
        "# !conda install keras\n",
        "#Tokenizing the sentences to word\n",
        "from nltk.tokenize import word_tokenize\n",
        "from keras.preprocessing.text import Tokenizer\n",
        "#Padding the sentences\n",
        "from keras_preprocessing.sequence import pad_sequences\n",
        "from keras.models import Sequential\n",
        "from keras.layers import Embedding, LSTM, Dense, Dropout\n",
        "from sklearn.preprocessing import LabelEncoder\n",
        "\n",
        "import warnings\n",
        "warnings.filterwarnings('ignore')\n",
        "sns.set()\n",
        "nltk.download('punkt')"
      ]
    },
    {
      "cell_type": "code",
      "execution_count": 4,
      "id": "f9d689ae",
      "metadata": {
        "id": "f9d689ae",
        "outputId": "d59b50d6-18d9-414e-8530-6cc2b2ccb673",
        "colab": {
          "base_uri": "https://localhost:8080/",
          "height": 363
        }
      },
      "outputs": [
        {
          "output_type": "execute_result",
          "data": {
            "text/plain": [
              "                                              review sentiment\n",
              "0  One of the other reviewers has mentioned that ...  positive\n",
              "1  A wonderful little production. <br /><br />The...  positive\n",
              "2  I thought this was a wonderful way to spend ti...  positive\n",
              "3  Basically there's a family where a little boy ...  negative\n",
              "4  Petter Mattei's \"Love in the Time of Money\" is...  positive\n",
              "5  Probably my all-time favorite movie, a story o...  positive\n",
              "6  I sure would like to see a resurrection of a u...  positive\n",
              "7  This show was an amazing, fresh & innovative i...  negative\n",
              "8  Encouraged by the positive comments about this...  negative\n",
              "9  If you like original gut wrenching laughter yo...  positive"
            ],
            "text/html": [
              "\n",
              "  <div id=\"df-574362a5-babf-4371-8892-1e99124e4fb6\">\n",
              "    <div class=\"colab-df-container\">\n",
              "      <div>\n",
              "<style scoped>\n",
              "    .dataframe tbody tr th:only-of-type {\n",
              "        vertical-align: middle;\n",
              "    }\n",
              "\n",
              "    .dataframe tbody tr th {\n",
              "        vertical-align: top;\n",
              "    }\n",
              "\n",
              "    .dataframe thead th {\n",
              "        text-align: right;\n",
              "    }\n",
              "</style>\n",
              "<table border=\"1\" class=\"dataframe\">\n",
              "  <thead>\n",
              "    <tr style=\"text-align: right;\">\n",
              "      <th></th>\n",
              "      <th>review</th>\n",
              "      <th>sentiment</th>\n",
              "    </tr>\n",
              "  </thead>\n",
              "  <tbody>\n",
              "    <tr>\n",
              "      <th>0</th>\n",
              "      <td>One of the other reviewers has mentioned that ...</td>\n",
              "      <td>positive</td>\n",
              "    </tr>\n",
              "    <tr>\n",
              "      <th>1</th>\n",
              "      <td>A wonderful little production. &lt;br /&gt;&lt;br /&gt;The...</td>\n",
              "      <td>positive</td>\n",
              "    </tr>\n",
              "    <tr>\n",
              "      <th>2</th>\n",
              "      <td>I thought this was a wonderful way to spend ti...</td>\n",
              "      <td>positive</td>\n",
              "    </tr>\n",
              "    <tr>\n",
              "      <th>3</th>\n",
              "      <td>Basically there's a family where a little boy ...</td>\n",
              "      <td>negative</td>\n",
              "    </tr>\n",
              "    <tr>\n",
              "      <th>4</th>\n",
              "      <td>Petter Mattei's \"Love in the Time of Money\" is...</td>\n",
              "      <td>positive</td>\n",
              "    </tr>\n",
              "    <tr>\n",
              "      <th>5</th>\n",
              "      <td>Probably my all-time favorite movie, a story o...</td>\n",
              "      <td>positive</td>\n",
              "    </tr>\n",
              "    <tr>\n",
              "      <th>6</th>\n",
              "      <td>I sure would like to see a resurrection of a u...</td>\n",
              "      <td>positive</td>\n",
              "    </tr>\n",
              "    <tr>\n",
              "      <th>7</th>\n",
              "      <td>This show was an amazing, fresh &amp; innovative i...</td>\n",
              "      <td>negative</td>\n",
              "    </tr>\n",
              "    <tr>\n",
              "      <th>8</th>\n",
              "      <td>Encouraged by the positive comments about this...</td>\n",
              "      <td>negative</td>\n",
              "    </tr>\n",
              "    <tr>\n",
              "      <th>9</th>\n",
              "      <td>If you like original gut wrenching laughter yo...</td>\n",
              "      <td>positive</td>\n",
              "    </tr>\n",
              "  </tbody>\n",
              "</table>\n",
              "</div>\n",
              "      <button class=\"colab-df-convert\" onclick=\"convertToInteractive('df-574362a5-babf-4371-8892-1e99124e4fb6')\"\n",
              "              title=\"Convert this dataframe to an interactive table.\"\n",
              "              style=\"display:none;\">\n",
              "        \n",
              "  <svg xmlns=\"http://www.w3.org/2000/svg\" height=\"24px\"viewBox=\"0 0 24 24\"\n",
              "       width=\"24px\">\n",
              "    <path d=\"M0 0h24v24H0V0z\" fill=\"none\"/>\n",
              "    <path d=\"M18.56 5.44l.94 2.06.94-2.06 2.06-.94-2.06-.94-.94-2.06-.94 2.06-2.06.94zm-11 1L8.5 8.5l.94-2.06 2.06-.94-2.06-.94L8.5 2.5l-.94 2.06-2.06.94zm10 10l.94 2.06.94-2.06 2.06-.94-2.06-.94-.94-2.06-.94 2.06-2.06.94z\"/><path d=\"M17.41 7.96l-1.37-1.37c-.4-.4-.92-.59-1.43-.59-.52 0-1.04.2-1.43.59L10.3 9.45l-7.72 7.72c-.78.78-.78 2.05 0 2.83L4 21.41c.39.39.9.59 1.41.59.51 0 1.02-.2 1.41-.59l7.78-7.78 2.81-2.81c.8-.78.8-2.07 0-2.86zM5.41 20L4 18.59l7.72-7.72 1.47 1.35L5.41 20z\"/>\n",
              "  </svg>\n",
              "      </button>\n",
              "      \n",
              "  <style>\n",
              "    .colab-df-container {\n",
              "      display:flex;\n",
              "      flex-wrap:wrap;\n",
              "      gap: 12px;\n",
              "    }\n",
              "\n",
              "    .colab-df-convert {\n",
              "      background-color: #E8F0FE;\n",
              "      border: none;\n",
              "      border-radius: 50%;\n",
              "      cursor: pointer;\n",
              "      display: none;\n",
              "      fill: #1967D2;\n",
              "      height: 32px;\n",
              "      padding: 0 0 0 0;\n",
              "      width: 32px;\n",
              "    }\n",
              "\n",
              "    .colab-df-convert:hover {\n",
              "      background-color: #E2EBFA;\n",
              "      box-shadow: 0px 1px 2px rgba(60, 64, 67, 0.3), 0px 1px 3px 1px rgba(60, 64, 67, 0.15);\n",
              "      fill: #174EA6;\n",
              "    }\n",
              "\n",
              "    [theme=dark] .colab-df-convert {\n",
              "      background-color: #3B4455;\n",
              "      fill: #D2E3FC;\n",
              "    }\n",
              "\n",
              "    [theme=dark] .colab-df-convert:hover {\n",
              "      background-color: #434B5C;\n",
              "      box-shadow: 0px 1px 3px 1px rgba(0, 0, 0, 0.15);\n",
              "      filter: drop-shadow(0px 1px 2px rgba(0, 0, 0, 0.3));\n",
              "      fill: #FFFFFF;\n",
              "    }\n",
              "  </style>\n",
              "\n",
              "      <script>\n",
              "        const buttonEl =\n",
              "          document.querySelector('#df-574362a5-babf-4371-8892-1e99124e4fb6 button.colab-df-convert');\n",
              "        buttonEl.style.display =\n",
              "          google.colab.kernel.accessAllowed ? 'block' : 'none';\n",
              "\n",
              "        async function convertToInteractive(key) {\n",
              "          const element = document.querySelector('#df-574362a5-babf-4371-8892-1e99124e4fb6');\n",
              "          const dataTable =\n",
              "            await google.colab.kernel.invokeFunction('convertToInteractive',\n",
              "                                                     [key], {});\n",
              "          if (!dataTable) return;\n",
              "\n",
              "          const docLinkHtml = 'Like what you see? Visit the ' +\n",
              "            '<a target=\"_blank\" href=https://colab.research.google.com/notebooks/data_table.ipynb>data table notebook</a>'\n",
              "            + ' to learn more about interactive tables.';\n",
              "          element.innerHTML = '';\n",
              "          dataTable['output_type'] = 'display_data';\n",
              "          await google.colab.output.renderOutput(dataTable, element);\n",
              "          const docLink = document.createElement('div');\n",
              "          docLink.innerHTML = docLinkHtml;\n",
              "          element.appendChild(docLink);\n",
              "        }\n",
              "      </script>\n",
              "    </div>\n",
              "  </div>\n",
              "  "
            ]
          },
          "metadata": {},
          "execution_count": 4
        }
      ],
      "source": [
        "data = pd.read_csv('IMDB Dataset.csv')\n",
        "data = pd.DataFrame(data)\n",
        "data.head(10)"
      ]
    },
    {
      "cell_type": "code",
      "execution_count": 5,
      "id": "9ca23396",
      "metadata": {
        "id": "9ca23396"
      },
      "outputs": [],
      "source": [
        "corpus_1 = []\n",
        "for text in data['review']:\n",
        "    words = [word.lower() for word in word_tokenize(text)]\n",
        "    corpus_1.append(words)"
      ]
    },
    {
      "cell_type": "code",
      "execution_count": 6,
      "id": "553b846d",
      "metadata": {
        "id": "553b846d",
        "colab": {
          "base_uri": "https://localhost:8080/"
        },
        "outputId": "42f412f0-b29c-41ed-d29d-481f2ec7dfe7"
      },
      "outputs": [
        {
          "output_type": "stream",
          "name": "stdout",
          "text": [
            "50000\n"
          ]
        }
      ],
      "source": [
        "number_of_words=len(corpus_1)\n",
        "print(number_of_words)"
      ]
    },
    {
      "cell_type": "code",
      "execution_count": 7,
      "id": "d9f23bcf",
      "metadata": {
        "id": "d9f23bcf",
        "colab": {
          "base_uri": "https://localhost:8080/"
        },
        "outputId": "eb3bc1ae-3243-4edc-ca50-711a1daacf96"
      },
      "outputs": [
        {
          "output_type": "execute_result",
          "data": {
            "text/plain": [
              "0        One of the other reviewers has mentioned that ...\n",
              "1        A wonderful little production. <br /><br />The...\n",
              "2        I thought this was a wonderful way to spend ti...\n",
              "3        Basically there's a family where a little boy ...\n",
              "4        Petter Mattei's \"Love in the Time of Money\" is...\n",
              "                               ...                        \n",
              "49995    I thought this movie did a down right good job...\n",
              "49996    Bad plot, bad dialogue, bad acting, idiotic di...\n",
              "49997    I am a Catholic taught in parochial elementary...\n",
              "49998    I'm going to have to disagree with the previou...\n",
              "49999    No one expects the Star Trek movies to be high...\n",
              "Name: review, Length: 50000, dtype: object"
            ]
          },
          "metadata": {},
          "execution_count": 7
        }
      ],
      "source": [
        "X_train = data.review[:]\n",
        "X_train"
      ]
    },
    {
      "cell_type": "code",
      "source": [
        "y_train= data.sentiment[:]\n",
        "y_train"
      ],
      "metadata": {
        "colab": {
          "base_uri": "https://localhost:8080/"
        },
        "id": "iHth753_uOl9",
        "outputId": "9a882d3d-3df1-4841-c101-7049123eb228"
      },
      "id": "iHth753_uOl9",
      "execution_count": 8,
      "outputs": [
        {
          "output_type": "execute_result",
          "data": {
            "text/plain": [
              "0        positive\n",
              "1        positive\n",
              "2        positive\n",
              "3        negative\n",
              "4        positive\n",
              "           ...   \n",
              "49995    positive\n",
              "49996    negative\n",
              "49997    negative\n",
              "49998    negative\n",
              "49999    negative\n",
              "Name: sentiment, Length: 50000, dtype: object"
            ]
          },
          "metadata": {},
          "execution_count": 8
        }
      ]
    },
    {
      "cell_type": "code",
      "execution_count": 9,
      "id": "935be09e",
      "metadata": {
        "id": "935be09e"
      },
      "outputs": [],
      "source": [
        "# Test One"
      ]
    },
    {
      "cell_type": "code",
      "source": [],
      "metadata": {
        "id": "nPxEKJnQuxao"
      },
      "id": "nPxEKJnQuxao",
      "execution_count": 9,
      "outputs": []
    },
    {
      "cell_type": "code",
      "execution_count": 10,
      "id": "e5379d14",
      "metadata": {
        "id": "e5379d14"
      },
      "outputs": [],
      "source": [
        "test_data= pd.read_csv('IMDB Dataset.csv')\n",
        "test_data = pd.DataFrame(test_data)\n",
        "\n",
        "\n",
        "corpus_2 = []\n",
        "for text in test_data['review']:\n",
        "    words = [word.lower() for word in word_tokenize(text)]\n",
        "    corpus_2.append(words)"
      ]
    },
    {
      "cell_type": "code",
      "execution_count": 11,
      "id": "a3e4ea4a",
      "metadata": {
        "id": "a3e4ea4a"
      },
      "outputs": [],
      "source": [
        "X_test= test_data.review[:]\n",
        "y_test = test_data.sentiment[:]"
      ]
    },
    {
      "cell_type": "markdown",
      "id": "91872424",
      "metadata": {
        "id": "91872424"
      },
      "source": [
        "# Tokeinzing and Padding the words"
      ]
    },
    {
      "cell_type": "code",
      "execution_count": 12,
      "id": "d575995d",
      "metadata": {
        "id": "d575995d"
      },
      "outputs": [],
      "source": [
        "tokenizer = Tokenizer(number_of_words)\n",
        "tokenizer.fit_on_texts(X_train)\n"
      ]
    },
    {
      "cell_type": "code",
      "execution_count": 13,
      "id": "ac751689",
      "metadata": {
        "id": "ac751689"
      },
      "outputs": [],
      "source": [
        "X_train = tokenizer.texts_to_sequences(X_train)\n",
        "X_train = pad_sequences(X_train, maxlen=128, truncating='post', padding='post')"
      ]
    },
    {
      "cell_type": "code",
      "execution_count": 14,
      "id": "d95949a4",
      "metadata": {
        "id": "d95949a4"
      },
      "outputs": [],
      "source": [
        "X_test = tokenizer.texts_to_sequences(X_test)\n",
        "X_test = pad_sequences(X_test, maxlen=128, truncating='post', padding='post')"
      ]
    },
    {
      "cell_type": "code",
      "execution_count": 15,
      "id": "0b20e959",
      "metadata": {
        "id": "0b20e959"
      },
      "outputs": [],
      "source": [
        "#I Dont think we need LabelEncoder() Here..!!!\n",
        "\n",
        "le = LabelEncoder()\n",
        "y_train = le.fit_transform(y_train)\n",
        "y_test = le.transform(y_test)"
      ]
    },
    {
      "cell_type": "code",
      "execution_count": 16,
      "id": "06b43e2d",
      "metadata": {
        "id": "06b43e2d"
      },
      "outputs": [],
      "source": [
        "model = Sequential()\n",
        "\n",
        "model.add(Embedding(input_dim=number_of_words, output_dim=100,\n",
        "                   input_length=128, trainable=True))\n",
        "model.add(LSTM(100,dropout=0.1,return_sequences=True))\n",
        "model.add(LSTM(100,dropout=0.1))\n",
        "model.add(Dense(1,activation='sigmoid'))\n",
        "\n",
        "model.compile(loss='binary_crossentropy', optimizer='adam', metrics=['accuracy'])"
      ]
    },
    {
      "cell_type": "code",
      "execution_count": 17,
      "id": "4662bec3",
      "metadata": {
        "id": "4662bec3",
        "outputId": "4adc9e8f-7912-410e-d945-52f89556ed3f",
        "colab": {
          "base_uri": "https://localhost:8080/"
        }
      },
      "outputs": [
        {
          "output_type": "stream",
          "name": "stdout",
          "text": [
            "Model: \"sequential\"\n",
            "_________________________________________________________________\n",
            " Layer (type)                Output Shape              Param #   \n",
            "=================================================================\n",
            " embedding (Embedding)       (None, 128, 100)          5000000   \n",
            "                                                                 \n",
            " lstm (LSTM)                 (None, 128, 100)          80400     \n",
            "                                                                 \n",
            " lstm_1 (LSTM)               (None, 100)               80400     \n",
            "                                                                 \n",
            " dense (Dense)               (None, 1)                 101       \n",
            "                                                                 \n",
            "=================================================================\n",
            "Total params: 5,160,901\n",
            "Trainable params: 5,160,901\n",
            "Non-trainable params: 0\n",
            "_________________________________________________________________\n"
          ]
        }
      ],
      "source": [
        "model.summary()"
      ]
    },
    {
      "cell_type": "code",
      "execution_count": null,
      "id": "082f3450",
      "metadata": {
        "id": "082f3450",
        "outputId": "58bfe9de-1576-4105-a576-bc537b14dbeb",
        "colab": {
          "base_uri": "https://localhost:8080/"
        }
      },
      "outputs": [
        {
          "output_type": "stream",
          "name": "stdout",
          "text": [
            "Epoch 1/5\n",
            "820/820 [==============================] - 710s 861ms/step - loss: 0.4375 - accuracy: 0.7998 - val_loss: 0.2468 - val_accuracy: 0.9138\n",
            "Epoch 2/5\n",
            "820/820 [==============================] - 698s 852ms/step - loss: 0.2483 - accuracy: 0.9067 - val_loss: 0.1493 - val_accuracy: 0.9527\n",
            "Epoch 3/5\n",
            "820/820 [==============================] - ETA: 0s - loss: 0.1610 - accuracy: 0.9415"
          ]
        }
      ],
      "source": [
        "history=model.fit(X_train, y_train,epochs=5, batch_size=61, validation_data=(X_test,y_test))"
      ]
    },
    {
      "cell_type": "code",
      "execution_count": null,
      "id": "0fcead15",
      "metadata": {
        "id": "0fcead15"
      },
      "outputs": [],
      "source": [
        "plt.figure(figsize=(16,5))\n",
        "epochs=range(1,len(history.history['accuracy'])+1)\n",
        "plt.plot(epochs,history.history['loss'], 'b', label='Training Loss',color='red')\n",
        "plt.plot(epochs,history.history['val_loss'], 'b', label='Validation  Loss',color='orange')\n",
        "plt.legend()\n",
        "plt.show()"
      ]
    },
    {
      "cell_type": "code",
      "execution_count": null,
      "id": "6cb74e61",
      "metadata": {
        "id": "6cb74e61"
      },
      "outputs": [],
      "source": [
        "plt.figure(figsize=(16,5))\n",
        "epochs=range(1,len(history.history['accuracy'])+1)\n",
        "plt.plot(epochs,history.history['accuracy'], 'b', label='Training Accuracy',color='red')\n",
        "plt.plot(epochs,history.history['val_accuracy'], 'b', label='Validation  Accuracy',color='orange')\n",
        "plt.legend()\n",
        "plt.show()"
      ]
    },
    {
      "cell_type": "code",
      "execution_count": null,
      "id": "cb2d930b",
      "metadata": {
        "id": "cb2d930b"
      },
      "outputs": [],
      "source": []
    }
  ],
  "metadata": {
    "kernelspec": {
      "display_name": "Python 3 (ipykernel)",
      "language": "python",
      "name": "python3"
    },
    "language_info": {
      "codemirror_mode": {
        "name": "ipython",
        "version": 3
      },
      "file_extension": ".py",
      "mimetype": "text/x-python",
      "name": "python",
      "nbconvert_exporter": "python",
      "pygments_lexer": "ipython3",
      "version": "3.10.8"
    },
    "colab": {
      "provenance": []
    }
  },
  "nbformat": 4,
  "nbformat_minor": 5
}