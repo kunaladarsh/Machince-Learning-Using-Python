{
  "nbformat": 4,
  "nbformat_minor": 0,
  "metadata": {
    "colab": {
      "provenance": []
    },
    "kernelspec": {
      "name": "python3",
      "display_name": "Python 3"
    },
    "language_info": {
      "name": "python"
    },
    "accelerator": "GPU",
    "widgets": {
      "application/vnd.jupyter.widget-state+json": {
        "9a359bbb51b247208a47a951dcb5b3b3": {
          "model_module": "@jupyter-widgets/controls",
          "model_name": "HBoxModel",
          "model_module_version": "1.5.0",
          "state": {
            "_dom_classes": [],
            "_model_module": "@jupyter-widgets/controls",
            "_model_module_version": "1.5.0",
            "_model_name": "HBoxModel",
            "_view_count": null,
            "_view_module": "@jupyter-widgets/controls",
            "_view_module_version": "1.5.0",
            "_view_name": "HBoxView",
            "box_style": "",
            "children": [
              "IPY_MODEL_99bb99c1a9474f7a88d6c325c568a738",
              "IPY_MODEL_218e54983e9842b0bb128079e6f53186",
              "IPY_MODEL_2ad49ead56d147afbc0dbc72f82ab5a2"
            ],
            "layout": "IPY_MODEL_06ed7720d25a4eabbede0310561d73c1"
          }
        },
        "99bb99c1a9474f7a88d6c325c568a738": {
          "model_module": "@jupyter-widgets/controls",
          "model_name": "HTMLModel",
          "model_module_version": "1.5.0",
          "state": {
            "_dom_classes": [],
            "_model_module": "@jupyter-widgets/controls",
            "_model_module_version": "1.5.0",
            "_model_name": "HTMLModel",
            "_view_count": null,
            "_view_module": "@jupyter-widgets/controls",
            "_view_module_version": "1.5.0",
            "_view_name": "HTMLView",
            "description": "",
            "description_tooltip": null,
            "layout": "IPY_MODEL_e80de037233a4246bbc1b9f845d1cf93",
            "placeholder": "​",
            "style": "IPY_MODEL_afe1df4529914b97b939afe5cf2e2105",
            "value": "100%"
          }
        },
        "218e54983e9842b0bb128079e6f53186": {
          "model_module": "@jupyter-widgets/controls",
          "model_name": "FloatProgressModel",
          "model_module_version": "1.5.0",
          "state": {
            "_dom_classes": [],
            "_model_module": "@jupyter-widgets/controls",
            "_model_module_version": "1.5.0",
            "_model_name": "FloatProgressModel",
            "_view_count": null,
            "_view_module": "@jupyter-widgets/controls",
            "_view_module_version": "1.5.0",
            "_view_name": "ProgressView",
            "bar_style": "success",
            "description": "",
            "description_tooltip": null,
            "layout": "IPY_MODEL_77fa5bcc3ee641a99358f8aa950a65cc",
            "max": 9912422,
            "min": 0,
            "orientation": "horizontal",
            "style": "IPY_MODEL_2835caeef5ba4e398e65f93a638824cf",
            "value": 9912422
          }
        },
        "2ad49ead56d147afbc0dbc72f82ab5a2": {
          "model_module": "@jupyter-widgets/controls",
          "model_name": "HTMLModel",
          "model_module_version": "1.5.0",
          "state": {
            "_dom_classes": [],
            "_model_module": "@jupyter-widgets/controls",
            "_model_module_version": "1.5.0",
            "_model_name": "HTMLModel",
            "_view_count": null,
            "_view_module": "@jupyter-widgets/controls",
            "_view_module_version": "1.5.0",
            "_view_name": "HTMLView",
            "description": "",
            "description_tooltip": null,
            "layout": "IPY_MODEL_f1268730cd3f4fa98ce72895779f4cab",
            "placeholder": "​",
            "style": "IPY_MODEL_e9f34a9c4b184df1b8945f7157d0993f",
            "value": " 9912422/9912422 [00:00&lt;00:00, 27296410.85it/s]"
          }
        },
        "06ed7720d25a4eabbede0310561d73c1": {
          "model_module": "@jupyter-widgets/base",
          "model_name": "LayoutModel",
          "model_module_version": "1.2.0",
          "state": {
            "_model_module": "@jupyter-widgets/base",
            "_model_module_version": "1.2.0",
            "_model_name": "LayoutModel",
            "_view_count": null,
            "_view_module": "@jupyter-widgets/base",
            "_view_module_version": "1.2.0",
            "_view_name": "LayoutView",
            "align_content": null,
            "align_items": null,
            "align_self": null,
            "border": null,
            "bottom": null,
            "display": null,
            "flex": null,
            "flex_flow": null,
            "grid_area": null,
            "grid_auto_columns": null,
            "grid_auto_flow": null,
            "grid_auto_rows": null,
            "grid_column": null,
            "grid_gap": null,
            "grid_row": null,
            "grid_template_areas": null,
            "grid_template_columns": null,
            "grid_template_rows": null,
            "height": null,
            "justify_content": null,
            "justify_items": null,
            "left": null,
            "margin": null,
            "max_height": null,
            "max_width": null,
            "min_height": null,
            "min_width": null,
            "object_fit": null,
            "object_position": null,
            "order": null,
            "overflow": null,
            "overflow_x": null,
            "overflow_y": null,
            "padding": null,
            "right": null,
            "top": null,
            "visibility": null,
            "width": null
          }
        },
        "e80de037233a4246bbc1b9f845d1cf93": {
          "model_module": "@jupyter-widgets/base",
          "model_name": "LayoutModel",
          "model_module_version": "1.2.0",
          "state": {
            "_model_module": "@jupyter-widgets/base",
            "_model_module_version": "1.2.0",
            "_model_name": "LayoutModel",
            "_view_count": null,
            "_view_module": "@jupyter-widgets/base",
            "_view_module_version": "1.2.0",
            "_view_name": "LayoutView",
            "align_content": null,
            "align_items": null,
            "align_self": null,
            "border": null,
            "bottom": null,
            "display": null,
            "flex": null,
            "flex_flow": null,
            "grid_area": null,
            "grid_auto_columns": null,
            "grid_auto_flow": null,
            "grid_auto_rows": null,
            "grid_column": null,
            "grid_gap": null,
            "grid_row": null,
            "grid_template_areas": null,
            "grid_template_columns": null,
            "grid_template_rows": null,
            "height": null,
            "justify_content": null,
            "justify_items": null,
            "left": null,
            "margin": null,
            "max_height": null,
            "max_width": null,
            "min_height": null,
            "min_width": null,
            "object_fit": null,
            "object_position": null,
            "order": null,
            "overflow": null,
            "overflow_x": null,
            "overflow_y": null,
            "padding": null,
            "right": null,
            "top": null,
            "visibility": null,
            "width": null
          }
        },
        "afe1df4529914b97b939afe5cf2e2105": {
          "model_module": "@jupyter-widgets/controls",
          "model_name": "DescriptionStyleModel",
          "model_module_version": "1.5.0",
          "state": {
            "_model_module": "@jupyter-widgets/controls",
            "_model_module_version": "1.5.0",
            "_model_name": "DescriptionStyleModel",
            "_view_count": null,
            "_view_module": "@jupyter-widgets/base",
            "_view_module_version": "1.2.0",
            "_view_name": "StyleView",
            "description_width": ""
          }
        },
        "77fa5bcc3ee641a99358f8aa950a65cc": {
          "model_module": "@jupyter-widgets/base",
          "model_name": "LayoutModel",
          "model_module_version": "1.2.0",
          "state": {
            "_model_module": "@jupyter-widgets/base",
            "_model_module_version": "1.2.0",
            "_model_name": "LayoutModel",
            "_view_count": null,
            "_view_module": "@jupyter-widgets/base",
            "_view_module_version": "1.2.0",
            "_view_name": "LayoutView",
            "align_content": null,
            "align_items": null,
            "align_self": null,
            "border": null,
            "bottom": null,
            "display": null,
            "flex": null,
            "flex_flow": null,
            "grid_area": null,
            "grid_auto_columns": null,
            "grid_auto_flow": null,
            "grid_auto_rows": null,
            "grid_column": null,
            "grid_gap": null,
            "grid_row": null,
            "grid_template_areas": null,
            "grid_template_columns": null,
            "grid_template_rows": null,
            "height": null,
            "justify_content": null,
            "justify_items": null,
            "left": null,
            "margin": null,
            "max_height": null,
            "max_width": null,
            "min_height": null,
            "min_width": null,
            "object_fit": null,
            "object_position": null,
            "order": null,
            "overflow": null,
            "overflow_x": null,
            "overflow_y": null,
            "padding": null,
            "right": null,
            "top": null,
            "visibility": null,
            "width": null
          }
        },
        "2835caeef5ba4e398e65f93a638824cf": {
          "model_module": "@jupyter-widgets/controls",
          "model_name": "ProgressStyleModel",
          "model_module_version": "1.5.0",
          "state": {
            "_model_module": "@jupyter-widgets/controls",
            "_model_module_version": "1.5.0",
            "_model_name": "ProgressStyleModel",
            "_view_count": null,
            "_view_module": "@jupyter-widgets/base",
            "_view_module_version": "1.2.0",
            "_view_name": "StyleView",
            "bar_color": null,
            "description_width": ""
          }
        },
        "f1268730cd3f4fa98ce72895779f4cab": {
          "model_module": "@jupyter-widgets/base",
          "model_name": "LayoutModel",
          "model_module_version": "1.2.0",
          "state": {
            "_model_module": "@jupyter-widgets/base",
            "_model_module_version": "1.2.0",
            "_model_name": "LayoutModel",
            "_view_count": null,
            "_view_module": "@jupyter-widgets/base",
            "_view_module_version": "1.2.0",
            "_view_name": "LayoutView",
            "align_content": null,
            "align_items": null,
            "align_self": null,
            "border": null,
            "bottom": null,
            "display": null,
            "flex": null,
            "flex_flow": null,
            "grid_area": null,
            "grid_auto_columns": null,
            "grid_auto_flow": null,
            "grid_auto_rows": null,
            "grid_column": null,
            "grid_gap": null,
            "grid_row": null,
            "grid_template_areas": null,
            "grid_template_columns": null,
            "grid_template_rows": null,
            "height": null,
            "justify_content": null,
            "justify_items": null,
            "left": null,
            "margin": null,
            "max_height": null,
            "max_width": null,
            "min_height": null,
            "min_width": null,
            "object_fit": null,
            "object_position": null,
            "order": null,
            "overflow": null,
            "overflow_x": null,
            "overflow_y": null,
            "padding": null,
            "right": null,
            "top": null,
            "visibility": null,
            "width": null
          }
        },
        "e9f34a9c4b184df1b8945f7157d0993f": {
          "model_module": "@jupyter-widgets/controls",
          "model_name": "DescriptionStyleModel",
          "model_module_version": "1.5.0",
          "state": {
            "_model_module": "@jupyter-widgets/controls",
            "_model_module_version": "1.5.0",
            "_model_name": "DescriptionStyleModel",
            "_view_count": null,
            "_view_module": "@jupyter-widgets/base",
            "_view_module_version": "1.2.0",
            "_view_name": "StyleView",
            "description_width": ""
          }
        },
        "0932c22eaf9e46048353beefb52561de": {
          "model_module": "@jupyter-widgets/controls",
          "model_name": "HBoxModel",
          "model_module_version": "1.5.0",
          "state": {
            "_dom_classes": [],
            "_model_module": "@jupyter-widgets/controls",
            "_model_module_version": "1.5.0",
            "_model_name": "HBoxModel",
            "_view_count": null,
            "_view_module": "@jupyter-widgets/controls",
            "_view_module_version": "1.5.0",
            "_view_name": "HBoxView",
            "box_style": "",
            "children": [
              "IPY_MODEL_30d02c4e14aa432d8975188adb9e5d7f",
              "IPY_MODEL_45829e4a20354debad02e64304982248",
              "IPY_MODEL_9e842ba3920e49fbaee0c4ffd686186c"
            ],
            "layout": "IPY_MODEL_f1b467734a39458fb6360002d6b21cad"
          }
        },
        "30d02c4e14aa432d8975188adb9e5d7f": {
          "model_module": "@jupyter-widgets/controls",
          "model_name": "HTMLModel",
          "model_module_version": "1.5.0",
          "state": {
            "_dom_classes": [],
            "_model_module": "@jupyter-widgets/controls",
            "_model_module_version": "1.5.0",
            "_model_name": "HTMLModel",
            "_view_count": null,
            "_view_module": "@jupyter-widgets/controls",
            "_view_module_version": "1.5.0",
            "_view_name": "HTMLView",
            "description": "",
            "description_tooltip": null,
            "layout": "IPY_MODEL_28883ab0b7b1430ba990eb5901a3ad57",
            "placeholder": "​",
            "style": "IPY_MODEL_28416d194af64a0fa1dc4241740ce229",
            "value": "100%"
          }
        },
        "45829e4a20354debad02e64304982248": {
          "model_module": "@jupyter-widgets/controls",
          "model_name": "FloatProgressModel",
          "model_module_version": "1.5.0",
          "state": {
            "_dom_classes": [],
            "_model_module": "@jupyter-widgets/controls",
            "_model_module_version": "1.5.0",
            "_model_name": "FloatProgressModel",
            "_view_count": null,
            "_view_module": "@jupyter-widgets/controls",
            "_view_module_version": "1.5.0",
            "_view_name": "ProgressView",
            "bar_style": "success",
            "description": "",
            "description_tooltip": null,
            "layout": "IPY_MODEL_fa4f838ad6e845a3828631230a4f7cbc",
            "max": 28881,
            "min": 0,
            "orientation": "horizontal",
            "style": "IPY_MODEL_3748a5e0bd6c4a6882e8a193d79a94ea",
            "value": 28881
          }
        },
        "9e842ba3920e49fbaee0c4ffd686186c": {
          "model_module": "@jupyter-widgets/controls",
          "model_name": "HTMLModel",
          "model_module_version": "1.5.0",
          "state": {
            "_dom_classes": [],
            "_model_module": "@jupyter-widgets/controls",
            "_model_module_version": "1.5.0",
            "_model_name": "HTMLModel",
            "_view_count": null,
            "_view_module": "@jupyter-widgets/controls",
            "_view_module_version": "1.5.0",
            "_view_name": "HTMLView",
            "description": "",
            "description_tooltip": null,
            "layout": "IPY_MODEL_3de878b332ba455c8130930b8afc2492",
            "placeholder": "​",
            "style": "IPY_MODEL_38859527a131488e94a50a24c2e5d08c",
            "value": " 28881/28881 [00:00&lt;00:00, 683768.22it/s]"
          }
        },
        "f1b467734a39458fb6360002d6b21cad": {
          "model_module": "@jupyter-widgets/base",
          "model_name": "LayoutModel",
          "model_module_version": "1.2.0",
          "state": {
            "_model_module": "@jupyter-widgets/base",
            "_model_module_version": "1.2.0",
            "_model_name": "LayoutModel",
            "_view_count": null,
            "_view_module": "@jupyter-widgets/base",
            "_view_module_version": "1.2.0",
            "_view_name": "LayoutView",
            "align_content": null,
            "align_items": null,
            "align_self": null,
            "border": null,
            "bottom": null,
            "display": null,
            "flex": null,
            "flex_flow": null,
            "grid_area": null,
            "grid_auto_columns": null,
            "grid_auto_flow": null,
            "grid_auto_rows": null,
            "grid_column": null,
            "grid_gap": null,
            "grid_row": null,
            "grid_template_areas": null,
            "grid_template_columns": null,
            "grid_template_rows": null,
            "height": null,
            "justify_content": null,
            "justify_items": null,
            "left": null,
            "margin": null,
            "max_height": null,
            "max_width": null,
            "min_height": null,
            "min_width": null,
            "object_fit": null,
            "object_position": null,
            "order": null,
            "overflow": null,
            "overflow_x": null,
            "overflow_y": null,
            "padding": null,
            "right": null,
            "top": null,
            "visibility": null,
            "width": null
          }
        },
        "28883ab0b7b1430ba990eb5901a3ad57": {
          "model_module": "@jupyter-widgets/base",
          "model_name": "LayoutModel",
          "model_module_version": "1.2.0",
          "state": {
            "_model_module": "@jupyter-widgets/base",
            "_model_module_version": "1.2.0",
            "_model_name": "LayoutModel",
            "_view_count": null,
            "_view_module": "@jupyter-widgets/base",
            "_view_module_version": "1.2.0",
            "_view_name": "LayoutView",
            "align_content": null,
            "align_items": null,
            "align_self": null,
            "border": null,
            "bottom": null,
            "display": null,
            "flex": null,
            "flex_flow": null,
            "grid_area": null,
            "grid_auto_columns": null,
            "grid_auto_flow": null,
            "grid_auto_rows": null,
            "grid_column": null,
            "grid_gap": null,
            "grid_row": null,
            "grid_template_areas": null,
            "grid_template_columns": null,
            "grid_template_rows": null,
            "height": null,
            "justify_content": null,
            "justify_items": null,
            "left": null,
            "margin": null,
            "max_height": null,
            "max_width": null,
            "min_height": null,
            "min_width": null,
            "object_fit": null,
            "object_position": null,
            "order": null,
            "overflow": null,
            "overflow_x": null,
            "overflow_y": null,
            "padding": null,
            "right": null,
            "top": null,
            "visibility": null,
            "width": null
          }
        },
        "28416d194af64a0fa1dc4241740ce229": {
          "model_module": "@jupyter-widgets/controls",
          "model_name": "DescriptionStyleModel",
          "model_module_version": "1.5.0",
          "state": {
            "_model_module": "@jupyter-widgets/controls",
            "_model_module_version": "1.5.0",
            "_model_name": "DescriptionStyleModel",
            "_view_count": null,
            "_view_module": "@jupyter-widgets/base",
            "_view_module_version": "1.2.0",
            "_view_name": "StyleView",
            "description_width": ""
          }
        },
        "fa4f838ad6e845a3828631230a4f7cbc": {
          "model_module": "@jupyter-widgets/base",
          "model_name": "LayoutModel",
          "model_module_version": "1.2.0",
          "state": {
            "_model_module": "@jupyter-widgets/base",
            "_model_module_version": "1.2.0",
            "_model_name": "LayoutModel",
            "_view_count": null,
            "_view_module": "@jupyter-widgets/base",
            "_view_module_version": "1.2.0",
            "_view_name": "LayoutView",
            "align_content": null,
            "align_items": null,
            "align_self": null,
            "border": null,
            "bottom": null,
            "display": null,
            "flex": null,
            "flex_flow": null,
            "grid_area": null,
            "grid_auto_columns": null,
            "grid_auto_flow": null,
            "grid_auto_rows": null,
            "grid_column": null,
            "grid_gap": null,
            "grid_row": null,
            "grid_template_areas": null,
            "grid_template_columns": null,
            "grid_template_rows": null,
            "height": null,
            "justify_content": null,
            "justify_items": null,
            "left": null,
            "margin": null,
            "max_height": null,
            "max_width": null,
            "min_height": null,
            "min_width": null,
            "object_fit": null,
            "object_position": null,
            "order": null,
            "overflow": null,
            "overflow_x": null,
            "overflow_y": null,
            "padding": null,
            "right": null,
            "top": null,
            "visibility": null,
            "width": null
          }
        },
        "3748a5e0bd6c4a6882e8a193d79a94ea": {
          "model_module": "@jupyter-widgets/controls",
          "model_name": "ProgressStyleModel",
          "model_module_version": "1.5.0",
          "state": {
            "_model_module": "@jupyter-widgets/controls",
            "_model_module_version": "1.5.0",
            "_model_name": "ProgressStyleModel",
            "_view_count": null,
            "_view_module": "@jupyter-widgets/base",
            "_view_module_version": "1.2.0",
            "_view_name": "StyleView",
            "bar_color": null,
            "description_width": ""
          }
        },
        "3de878b332ba455c8130930b8afc2492": {
          "model_module": "@jupyter-widgets/base",
          "model_name": "LayoutModel",
          "model_module_version": "1.2.0",
          "state": {
            "_model_module": "@jupyter-widgets/base",
            "_model_module_version": "1.2.0",
            "_model_name": "LayoutModel",
            "_view_count": null,
            "_view_module": "@jupyter-widgets/base",
            "_view_module_version": "1.2.0",
            "_view_name": "LayoutView",
            "align_content": null,
            "align_items": null,
            "align_self": null,
            "border": null,
            "bottom": null,
            "display": null,
            "flex": null,
            "flex_flow": null,
            "grid_area": null,
            "grid_auto_columns": null,
            "grid_auto_flow": null,
            "grid_auto_rows": null,
            "grid_column": null,
            "grid_gap": null,
            "grid_row": null,
            "grid_template_areas": null,
            "grid_template_columns": null,
            "grid_template_rows": null,
            "height": null,
            "justify_content": null,
            "justify_items": null,
            "left": null,
            "margin": null,
            "max_height": null,
            "max_width": null,
            "min_height": null,
            "min_width": null,
            "object_fit": null,
            "object_position": null,
            "order": null,
            "overflow": null,
            "overflow_x": null,
            "overflow_y": null,
            "padding": null,
            "right": null,
            "top": null,
            "visibility": null,
            "width": null
          }
        },
        "38859527a131488e94a50a24c2e5d08c": {
          "model_module": "@jupyter-widgets/controls",
          "model_name": "DescriptionStyleModel",
          "model_module_version": "1.5.0",
          "state": {
            "_model_module": "@jupyter-widgets/controls",
            "_model_module_version": "1.5.0",
            "_model_name": "DescriptionStyleModel",
            "_view_count": null,
            "_view_module": "@jupyter-widgets/base",
            "_view_module_version": "1.2.0",
            "_view_name": "StyleView",
            "description_width": ""
          }
        },
        "c92b858d366341b0af36e765491e2acd": {
          "model_module": "@jupyter-widgets/controls",
          "model_name": "HBoxModel",
          "model_module_version": "1.5.0",
          "state": {
            "_dom_classes": [],
            "_model_module": "@jupyter-widgets/controls",
            "_model_module_version": "1.5.0",
            "_model_name": "HBoxModel",
            "_view_count": null,
            "_view_module": "@jupyter-widgets/controls",
            "_view_module_version": "1.5.0",
            "_view_name": "HBoxView",
            "box_style": "",
            "children": [
              "IPY_MODEL_d9d51ad4e0f6428caa287beecca13bf1",
              "IPY_MODEL_754d877115b64b77976cff2b111b6356",
              "IPY_MODEL_456b6eccbfe94c8da7a97bde08e0515c"
            ],
            "layout": "IPY_MODEL_380cfe4a732d4a0298dff07701cfabe0"
          }
        },
        "d9d51ad4e0f6428caa287beecca13bf1": {
          "model_module": "@jupyter-widgets/controls",
          "model_name": "HTMLModel",
          "model_module_version": "1.5.0",
          "state": {
            "_dom_classes": [],
            "_model_module": "@jupyter-widgets/controls",
            "_model_module_version": "1.5.0",
            "_model_name": "HTMLModel",
            "_view_count": null,
            "_view_module": "@jupyter-widgets/controls",
            "_view_module_version": "1.5.0",
            "_view_name": "HTMLView",
            "description": "",
            "description_tooltip": null,
            "layout": "IPY_MODEL_2387752c392d432680a3f704015d256a",
            "placeholder": "​",
            "style": "IPY_MODEL_96c7636da9d84f5bad70b806d6d8962f",
            "value": "100%"
          }
        },
        "754d877115b64b77976cff2b111b6356": {
          "model_module": "@jupyter-widgets/controls",
          "model_name": "FloatProgressModel",
          "model_module_version": "1.5.0",
          "state": {
            "_dom_classes": [],
            "_model_module": "@jupyter-widgets/controls",
            "_model_module_version": "1.5.0",
            "_model_name": "FloatProgressModel",
            "_view_count": null,
            "_view_module": "@jupyter-widgets/controls",
            "_view_module_version": "1.5.0",
            "_view_name": "ProgressView",
            "bar_style": "success",
            "description": "",
            "description_tooltip": null,
            "layout": "IPY_MODEL_1bf9ad6bfc6b4c25aad23b7c307bf81c",
            "max": 1648877,
            "min": 0,
            "orientation": "horizontal",
            "style": "IPY_MODEL_3881a5c1ea63474c837d0688575aecf8",
            "value": 1648877
          }
        },
        "456b6eccbfe94c8da7a97bde08e0515c": {
          "model_module": "@jupyter-widgets/controls",
          "model_name": "HTMLModel",
          "model_module_version": "1.5.0",
          "state": {
            "_dom_classes": [],
            "_model_module": "@jupyter-widgets/controls",
            "_model_module_version": "1.5.0",
            "_model_name": "HTMLModel",
            "_view_count": null,
            "_view_module": "@jupyter-widgets/controls",
            "_view_module_version": "1.5.0",
            "_view_name": "HTMLView",
            "description": "",
            "description_tooltip": null,
            "layout": "IPY_MODEL_18641626327447599414803ff2b19904",
            "placeholder": "​",
            "style": "IPY_MODEL_85cb9f1de4fe4a34a1ec3dd93e8886f1",
            "value": " 1648877/1648877 [00:00&lt;00:00, 21065253.96it/s]"
          }
        },
        "380cfe4a732d4a0298dff07701cfabe0": {
          "model_module": "@jupyter-widgets/base",
          "model_name": "LayoutModel",
          "model_module_version": "1.2.0",
          "state": {
            "_model_module": "@jupyter-widgets/base",
            "_model_module_version": "1.2.0",
            "_model_name": "LayoutModel",
            "_view_count": null,
            "_view_module": "@jupyter-widgets/base",
            "_view_module_version": "1.2.0",
            "_view_name": "LayoutView",
            "align_content": null,
            "align_items": null,
            "align_self": null,
            "border": null,
            "bottom": null,
            "display": null,
            "flex": null,
            "flex_flow": null,
            "grid_area": null,
            "grid_auto_columns": null,
            "grid_auto_flow": null,
            "grid_auto_rows": null,
            "grid_column": null,
            "grid_gap": null,
            "grid_row": null,
            "grid_template_areas": null,
            "grid_template_columns": null,
            "grid_template_rows": null,
            "height": null,
            "justify_content": null,
            "justify_items": null,
            "left": null,
            "margin": null,
            "max_height": null,
            "max_width": null,
            "min_height": null,
            "min_width": null,
            "object_fit": null,
            "object_position": null,
            "order": null,
            "overflow": null,
            "overflow_x": null,
            "overflow_y": null,
            "padding": null,
            "right": null,
            "top": null,
            "visibility": null,
            "width": null
          }
        },
        "2387752c392d432680a3f704015d256a": {
          "model_module": "@jupyter-widgets/base",
          "model_name": "LayoutModel",
          "model_module_version": "1.2.0",
          "state": {
            "_model_module": "@jupyter-widgets/base",
            "_model_module_version": "1.2.0",
            "_model_name": "LayoutModel",
            "_view_count": null,
            "_view_module": "@jupyter-widgets/base",
            "_view_module_version": "1.2.0",
            "_view_name": "LayoutView",
            "align_content": null,
            "align_items": null,
            "align_self": null,
            "border": null,
            "bottom": null,
            "display": null,
            "flex": null,
            "flex_flow": null,
            "grid_area": null,
            "grid_auto_columns": null,
            "grid_auto_flow": null,
            "grid_auto_rows": null,
            "grid_column": null,
            "grid_gap": null,
            "grid_row": null,
            "grid_template_areas": null,
            "grid_template_columns": null,
            "grid_template_rows": null,
            "height": null,
            "justify_content": null,
            "justify_items": null,
            "left": null,
            "margin": null,
            "max_height": null,
            "max_width": null,
            "min_height": null,
            "min_width": null,
            "object_fit": null,
            "object_position": null,
            "order": null,
            "overflow": null,
            "overflow_x": null,
            "overflow_y": null,
            "padding": null,
            "right": null,
            "top": null,
            "visibility": null,
            "width": null
          }
        },
        "96c7636da9d84f5bad70b806d6d8962f": {
          "model_module": "@jupyter-widgets/controls",
          "model_name": "DescriptionStyleModel",
          "model_module_version": "1.5.0",
          "state": {
            "_model_module": "@jupyter-widgets/controls",
            "_model_module_version": "1.5.0",
            "_model_name": "DescriptionStyleModel",
            "_view_count": null,
            "_view_module": "@jupyter-widgets/base",
            "_view_module_version": "1.2.0",
            "_view_name": "StyleView",
            "description_width": ""
          }
        },
        "1bf9ad6bfc6b4c25aad23b7c307bf81c": {
          "model_module": "@jupyter-widgets/base",
          "model_name": "LayoutModel",
          "model_module_version": "1.2.0",
          "state": {
            "_model_module": "@jupyter-widgets/base",
            "_model_module_version": "1.2.0",
            "_model_name": "LayoutModel",
            "_view_count": null,
            "_view_module": "@jupyter-widgets/base",
            "_view_module_version": "1.2.0",
            "_view_name": "LayoutView",
            "align_content": null,
            "align_items": null,
            "align_self": null,
            "border": null,
            "bottom": null,
            "display": null,
            "flex": null,
            "flex_flow": null,
            "grid_area": null,
            "grid_auto_columns": null,
            "grid_auto_flow": null,
            "grid_auto_rows": null,
            "grid_column": null,
            "grid_gap": null,
            "grid_row": null,
            "grid_template_areas": null,
            "grid_template_columns": null,
            "grid_template_rows": null,
            "height": null,
            "justify_content": null,
            "justify_items": null,
            "left": null,
            "margin": null,
            "max_height": null,
            "max_width": null,
            "min_height": null,
            "min_width": null,
            "object_fit": null,
            "object_position": null,
            "order": null,
            "overflow": null,
            "overflow_x": null,
            "overflow_y": null,
            "padding": null,
            "right": null,
            "top": null,
            "visibility": null,
            "width": null
          }
        },
        "3881a5c1ea63474c837d0688575aecf8": {
          "model_module": "@jupyter-widgets/controls",
          "model_name": "ProgressStyleModel",
          "model_module_version": "1.5.0",
          "state": {
            "_model_module": "@jupyter-widgets/controls",
            "_model_module_version": "1.5.0",
            "_model_name": "ProgressStyleModel",
            "_view_count": null,
            "_view_module": "@jupyter-widgets/base",
            "_view_module_version": "1.2.0",
            "_view_name": "StyleView",
            "bar_color": null,
            "description_width": ""
          }
        },
        "18641626327447599414803ff2b19904": {
          "model_module": "@jupyter-widgets/base",
          "model_name": "LayoutModel",
          "model_module_version": "1.2.0",
          "state": {
            "_model_module": "@jupyter-widgets/base",
            "_model_module_version": "1.2.0",
            "_model_name": "LayoutModel",
            "_view_count": null,
            "_view_module": "@jupyter-widgets/base",
            "_view_module_version": "1.2.0",
            "_view_name": "LayoutView",
            "align_content": null,
            "align_items": null,
            "align_self": null,
            "border": null,
            "bottom": null,
            "display": null,
            "flex": null,
            "flex_flow": null,
            "grid_area": null,
            "grid_auto_columns": null,
            "grid_auto_flow": null,
            "grid_auto_rows": null,
            "grid_column": null,
            "grid_gap": null,
            "grid_row": null,
            "grid_template_areas": null,
            "grid_template_columns": null,
            "grid_template_rows": null,
            "height": null,
            "justify_content": null,
            "justify_items": null,
            "left": null,
            "margin": null,
            "max_height": null,
            "max_width": null,
            "min_height": null,
            "min_width": null,
            "object_fit": null,
            "object_position": null,
            "order": null,
            "overflow": null,
            "overflow_x": null,
            "overflow_y": null,
            "padding": null,
            "right": null,
            "top": null,
            "visibility": null,
            "width": null
          }
        },
        "85cb9f1de4fe4a34a1ec3dd93e8886f1": {
          "model_module": "@jupyter-widgets/controls",
          "model_name": "DescriptionStyleModel",
          "model_module_version": "1.5.0",
          "state": {
            "_model_module": "@jupyter-widgets/controls",
            "_model_module_version": "1.5.0",
            "_model_name": "DescriptionStyleModel",
            "_view_count": null,
            "_view_module": "@jupyter-widgets/base",
            "_view_module_version": "1.2.0",
            "_view_name": "StyleView",
            "description_width": ""
          }
        },
        "e5326f5315a844019b9b0534b563ae14": {
          "model_module": "@jupyter-widgets/controls",
          "model_name": "HBoxModel",
          "model_module_version": "1.5.0",
          "state": {
            "_dom_classes": [],
            "_model_module": "@jupyter-widgets/controls",
            "_model_module_version": "1.5.0",
            "_model_name": "HBoxModel",
            "_view_count": null,
            "_view_module": "@jupyter-widgets/controls",
            "_view_module_version": "1.5.0",
            "_view_name": "HBoxView",
            "box_style": "",
            "children": [
              "IPY_MODEL_0148443424cc4b7890bcac61ef1565b3",
              "IPY_MODEL_926d35e4955a47c8a89a5b051a97d94b",
              "IPY_MODEL_f625d2977ac6460b9dd5235d37a38673"
            ],
            "layout": "IPY_MODEL_37602cb30ff34b4a983276a4a8c5894b"
          }
        },
        "0148443424cc4b7890bcac61ef1565b3": {
          "model_module": "@jupyter-widgets/controls",
          "model_name": "HTMLModel",
          "model_module_version": "1.5.0",
          "state": {
            "_dom_classes": [],
            "_model_module": "@jupyter-widgets/controls",
            "_model_module_version": "1.5.0",
            "_model_name": "HTMLModel",
            "_view_count": null,
            "_view_module": "@jupyter-widgets/controls",
            "_view_module_version": "1.5.0",
            "_view_name": "HTMLView",
            "description": "",
            "description_tooltip": null,
            "layout": "IPY_MODEL_0159596dcb7c4888a960f5e2c793fcc4",
            "placeholder": "​",
            "style": "IPY_MODEL_7b6e9333f50c4e5db0211cb03ef4229d",
            "value": "100%"
          }
        },
        "926d35e4955a47c8a89a5b051a97d94b": {
          "model_module": "@jupyter-widgets/controls",
          "model_name": "FloatProgressModel",
          "model_module_version": "1.5.0",
          "state": {
            "_dom_classes": [],
            "_model_module": "@jupyter-widgets/controls",
            "_model_module_version": "1.5.0",
            "_model_name": "FloatProgressModel",
            "_view_count": null,
            "_view_module": "@jupyter-widgets/controls",
            "_view_module_version": "1.5.0",
            "_view_name": "ProgressView",
            "bar_style": "success",
            "description": "",
            "description_tooltip": null,
            "layout": "IPY_MODEL_291c01fb43be40f89d60e964a641895e",
            "max": 4542,
            "min": 0,
            "orientation": "horizontal",
            "style": "IPY_MODEL_7d55788d77614b74abc7eea094f9a782",
            "value": 4542
          }
        },
        "f625d2977ac6460b9dd5235d37a38673": {
          "model_module": "@jupyter-widgets/controls",
          "model_name": "HTMLModel",
          "model_module_version": "1.5.0",
          "state": {
            "_dom_classes": [],
            "_model_module": "@jupyter-widgets/controls",
            "_model_module_version": "1.5.0",
            "_model_name": "HTMLModel",
            "_view_count": null,
            "_view_module": "@jupyter-widgets/controls",
            "_view_module_version": "1.5.0",
            "_view_name": "HTMLView",
            "description": "",
            "description_tooltip": null,
            "layout": "IPY_MODEL_86c21f4c9e5d4dec8e425b7249ef6694",
            "placeholder": "​",
            "style": "IPY_MODEL_300a6f40040744ff87a65d6ce246fd35",
            "value": " 4542/4542 [00:00&lt;00:00, 284069.14it/s]"
          }
        },
        "37602cb30ff34b4a983276a4a8c5894b": {
          "model_module": "@jupyter-widgets/base",
          "model_name": "LayoutModel",
          "model_module_version": "1.2.0",
          "state": {
            "_model_module": "@jupyter-widgets/base",
            "_model_module_version": "1.2.0",
            "_model_name": "LayoutModel",
            "_view_count": null,
            "_view_module": "@jupyter-widgets/base",
            "_view_module_version": "1.2.0",
            "_view_name": "LayoutView",
            "align_content": null,
            "align_items": null,
            "align_self": null,
            "border": null,
            "bottom": null,
            "display": null,
            "flex": null,
            "flex_flow": null,
            "grid_area": null,
            "grid_auto_columns": null,
            "grid_auto_flow": null,
            "grid_auto_rows": null,
            "grid_column": null,
            "grid_gap": null,
            "grid_row": null,
            "grid_template_areas": null,
            "grid_template_columns": null,
            "grid_template_rows": null,
            "height": null,
            "justify_content": null,
            "justify_items": null,
            "left": null,
            "margin": null,
            "max_height": null,
            "max_width": null,
            "min_height": null,
            "min_width": null,
            "object_fit": null,
            "object_position": null,
            "order": null,
            "overflow": null,
            "overflow_x": null,
            "overflow_y": null,
            "padding": null,
            "right": null,
            "top": null,
            "visibility": null,
            "width": null
          }
        },
        "0159596dcb7c4888a960f5e2c793fcc4": {
          "model_module": "@jupyter-widgets/base",
          "model_name": "LayoutModel",
          "model_module_version": "1.2.0",
          "state": {
            "_model_module": "@jupyter-widgets/base",
            "_model_module_version": "1.2.0",
            "_model_name": "LayoutModel",
            "_view_count": null,
            "_view_module": "@jupyter-widgets/base",
            "_view_module_version": "1.2.0",
            "_view_name": "LayoutView",
            "align_content": null,
            "align_items": null,
            "align_self": null,
            "border": null,
            "bottom": null,
            "display": null,
            "flex": null,
            "flex_flow": null,
            "grid_area": null,
            "grid_auto_columns": null,
            "grid_auto_flow": null,
            "grid_auto_rows": null,
            "grid_column": null,
            "grid_gap": null,
            "grid_row": null,
            "grid_template_areas": null,
            "grid_template_columns": null,
            "grid_template_rows": null,
            "height": null,
            "justify_content": null,
            "justify_items": null,
            "left": null,
            "margin": null,
            "max_height": null,
            "max_width": null,
            "min_height": null,
            "min_width": null,
            "object_fit": null,
            "object_position": null,
            "order": null,
            "overflow": null,
            "overflow_x": null,
            "overflow_y": null,
            "padding": null,
            "right": null,
            "top": null,
            "visibility": null,
            "width": null
          }
        },
        "7b6e9333f50c4e5db0211cb03ef4229d": {
          "model_module": "@jupyter-widgets/controls",
          "model_name": "DescriptionStyleModel",
          "model_module_version": "1.5.0",
          "state": {
            "_model_module": "@jupyter-widgets/controls",
            "_model_module_version": "1.5.0",
            "_model_name": "DescriptionStyleModel",
            "_view_count": null,
            "_view_module": "@jupyter-widgets/base",
            "_view_module_version": "1.2.0",
            "_view_name": "StyleView",
            "description_width": ""
          }
        },
        "291c01fb43be40f89d60e964a641895e": {
          "model_module": "@jupyter-widgets/base",
          "model_name": "LayoutModel",
          "model_module_version": "1.2.0",
          "state": {
            "_model_module": "@jupyter-widgets/base",
            "_model_module_version": "1.2.0",
            "_model_name": "LayoutModel",
            "_view_count": null,
            "_view_module": "@jupyter-widgets/base",
            "_view_module_version": "1.2.0",
            "_view_name": "LayoutView",
            "align_content": null,
            "align_items": null,
            "align_self": null,
            "border": null,
            "bottom": null,
            "display": null,
            "flex": null,
            "flex_flow": null,
            "grid_area": null,
            "grid_auto_columns": null,
            "grid_auto_flow": null,
            "grid_auto_rows": null,
            "grid_column": null,
            "grid_gap": null,
            "grid_row": null,
            "grid_template_areas": null,
            "grid_template_columns": null,
            "grid_template_rows": null,
            "height": null,
            "justify_content": null,
            "justify_items": null,
            "left": null,
            "margin": null,
            "max_height": null,
            "max_width": null,
            "min_height": null,
            "min_width": null,
            "object_fit": null,
            "object_position": null,
            "order": null,
            "overflow": null,
            "overflow_x": null,
            "overflow_y": null,
            "padding": null,
            "right": null,
            "top": null,
            "visibility": null,
            "width": null
          }
        },
        "7d55788d77614b74abc7eea094f9a782": {
          "model_module": "@jupyter-widgets/controls",
          "model_name": "ProgressStyleModel",
          "model_module_version": "1.5.0",
          "state": {
            "_model_module": "@jupyter-widgets/controls",
            "_model_module_version": "1.5.0",
            "_model_name": "ProgressStyleModel",
            "_view_count": null,
            "_view_module": "@jupyter-widgets/base",
            "_view_module_version": "1.2.0",
            "_view_name": "StyleView",
            "bar_color": null,
            "description_width": ""
          }
        },
        "86c21f4c9e5d4dec8e425b7249ef6694": {
          "model_module": "@jupyter-widgets/base",
          "model_name": "LayoutModel",
          "model_module_version": "1.2.0",
          "state": {
            "_model_module": "@jupyter-widgets/base",
            "_model_module_version": "1.2.0",
            "_model_name": "LayoutModel",
            "_view_count": null,
            "_view_module": "@jupyter-widgets/base",
            "_view_module_version": "1.2.0",
            "_view_name": "LayoutView",
            "align_content": null,
            "align_items": null,
            "align_self": null,
            "border": null,
            "bottom": null,
            "display": null,
            "flex": null,
            "flex_flow": null,
            "grid_area": null,
            "grid_auto_columns": null,
            "grid_auto_flow": null,
            "grid_auto_rows": null,
            "grid_column": null,
            "grid_gap": null,
            "grid_row": null,
            "grid_template_areas": null,
            "grid_template_columns": null,
            "grid_template_rows": null,
            "height": null,
            "justify_content": null,
            "justify_items": null,
            "left": null,
            "margin": null,
            "max_height": null,
            "max_width": null,
            "min_height": null,
            "min_width": null,
            "object_fit": null,
            "object_position": null,
            "order": null,
            "overflow": null,
            "overflow_x": null,
            "overflow_y": null,
            "padding": null,
            "right": null,
            "top": null,
            "visibility": null,
            "width": null
          }
        },
        "300a6f40040744ff87a65d6ce246fd35": {
          "model_module": "@jupyter-widgets/controls",
          "model_name": "DescriptionStyleModel",
          "model_module_version": "1.5.0",
          "state": {
            "_model_module": "@jupyter-widgets/controls",
            "_model_module_version": "1.5.0",
            "_model_name": "DescriptionStyleModel",
            "_view_count": null,
            "_view_module": "@jupyter-widgets/base",
            "_view_module_version": "1.2.0",
            "_view_name": "StyleView",
            "description_width": ""
          }
        }
      }
    }
  },
  "cells": [
    {
      "cell_type": "markdown",
      "source": [
        "### **Logistic Regression**"
      ],
      "metadata": {
        "id": "Tm6t10EojRCq"
      }
    },
    {
      "cell_type": "code",
      "execution_count": 2,
      "metadata": {
        "id": "6jdUNEYODFG6"
      },
      "outputs": [],
      "source": [
        "import sklearn\n",
        "import torch\n",
        "import torch.nn as nn\n",
        "import torch.nn.functional as F\n",
        "from sklearn.datasets import load_iris\n",
        "from sklearn.model_selection import train_test_split\n",
        "from sklearn.preprocessing import StandardScaler"
      ]
    },
    {
      "cell_type": "code",
      "source": [
        "iris=load_iris()\n",
        "X=iris['data']\n",
        "y=iris['target']"
      ],
      "metadata": {
        "id": "KJy9PjMfDToY"
      },
      "execution_count": 3,
      "outputs": []
    },
    {
      "cell_type": "code",
      "source": [
        "y.shape"
      ],
      "metadata": {
        "colab": {
          "base_uri": "https://localhost:8080/"
        },
        "id": "6v7ma2myFky9",
        "outputId": "045a5bfa-e4dd-44b0-ce1e-db80e9533a12"
      },
      "execution_count": 4,
      "outputs": [
        {
          "output_type": "execute_result",
          "data": {
            "text/plain": [
              "(150,)"
            ]
          },
          "metadata": {},
          "execution_count": 4
        }
      ]
    },
    {
      "cell_type": "code",
      "source": [
        "### Preprocess the Data\n",
        "scaler=StandardScaler()\n",
        "X=scaler.fit_transform(X)\n",
        "X=torch.tensor(X,dtype=torch.float32)\n",
        "y=torch.tensor(y,dtype=torch.float32)\n"
      ],
      "metadata": {
        "id": "E4SqtB9gEdnv"
      },
      "execution_count": 5,
      "outputs": []
    },
    {
      "cell_type": "code",
      "source": [
        "X_train,X_test,y_train,y_test=train_test_split(X,y,test_size=.2,random_state=32)"
      ],
      "metadata": {
        "id": "iiIwowFfFJho"
      },
      "execution_count": 6,
      "outputs": []
    },
    {
      "cell_type": "code",
      "source": [
        "X_train.shape"
      ],
      "metadata": {
        "colab": {
          "base_uri": "https://localhost:8080/"
        },
        "id": "hGtcvnFNF64Q",
        "outputId": "addf03e1-048b-47a2-aaca-8438609ab2c5"
      },
      "execution_count": 7,
      "outputs": [
        {
          "output_type": "execute_result",
          "data": {
            "text/plain": [
              "torch.Size([120, 4])"
            ]
          },
          "metadata": {},
          "execution_count": 7
        }
      ]
    },
    {
      "cell_type": "code",
      "source": [
        "class LogisticRegression(nn.Module):\n",
        "  def __init__(self,n_features,h1):\n",
        "    super(LogisticRegression,self).__init__()\n",
        "    self.layer1=nn.Linear(n_features,h1)\n",
        "    self.layer2=nn.Linear(h1,3)\n",
        "    self.softmax=nn.Softmax(dim=1)\n",
        "\n",
        "  def forward(self,x):\n",
        "    out=F.relu(self.layer1(x))\n",
        "    out=F.relu(self.layer2(out))\n",
        "    out=self.softmax(out)\n",
        "    return out"
      ],
      "metadata": {
        "id": "6LrJNWlXF_ff"
      },
      "execution_count": 8,
      "outputs": []
    },
    {
      "cell_type": "code",
      "source": [
        "\n",
        "def train(model,X,y,epocs=50,optimizer=None,loss_fn=None,bsz=20,seed=20):\n",
        "  torch.manual_seed(seed)\n",
        "  cost=[]\n",
        "  for epoch in range(epocs):\n",
        "    suffle_idx=torch.randperm(y.size(0))\n",
        "    batches =torch.split(suffle_idx,bsz)\n",
        "    for batch_idx in batches:\n",
        "      ###1. Compute the output\n",
        "      yhat=model(X[batch_idx])\n",
        "\n",
        "      ###2. Compute the error\n",
        "    \n",
        "      loss=loss_fn(yhat,y[batch_idx].long())\n",
        "\n",
        "      ###3. Compute the Gradient\n",
        "      optimizer.zero_grad()\n",
        "      loss.backward()\n",
        "\n",
        "      ###4. Update the Parameters\n",
        "      optimizer.step()\n",
        "\n",
        "      ### Log the loss\n",
        "    with torch.no_grad():\n",
        "      yhat=model(X)\n",
        "      curr_loss=loss_fn(yhat,y.long())\n",
        "      print('Epoc:%3d ' % epoch,end=\"\")\n",
        "      print('BCE %.2f' % curr_loss)\n",
        "      cost.append(curr_loss)\n",
        "  return cost\n",
        "\n",
        "\n",
        "\n"
      ],
      "metadata": {
        "id": "WlXCB9VovaeN"
      },
      "execution_count": 9,
      "outputs": []
    },
    {
      "cell_type": "code",
      "source": [
        "model=LogisticRegression(n_features=X_train.size(1),h1=20)\n",
        "optimizer=torch.optim.Adam(model.parameters(),lr=.001)\n",
        "loss_fn=nn.CrossEntropyLoss()"
      ],
      "metadata": {
        "id": "JHsTBH3-HgnT"
      },
      "execution_count": 10,
      "outputs": []
    },
    {
      "cell_type": "code",
      "source": [
        "cost =train(model,X_train,y_train,optimizer=optimizer,loss_fn=loss_fn)"
      ],
      "metadata": {
        "colab": {
          "base_uri": "https://localhost:8080/"
        },
        "id": "EifyzkCYIEhr",
        "outputId": "cbb8d116-7812-49cd-eef3-d17b657a161a"
      },
      "execution_count": 11,
      "outputs": [
        {
          "output_type": "stream",
          "name": "stdout",
          "text": [
            "Epoc:  0 BCE 1.10\n",
            "Epoc:  1 BCE 1.10\n",
            "Epoc:  2 BCE 1.09\n",
            "Epoc:  3 BCE 1.08\n",
            "Epoc:  4 BCE 1.08\n",
            "Epoc:  5 BCE 1.07\n",
            "Epoc:  6 BCE 1.06\n",
            "Epoc:  7 BCE 1.05\n",
            "Epoc:  8 BCE 1.04\n",
            "Epoc:  9 BCE 1.03\n",
            "Epoc: 10 BCE 1.02\n",
            "Epoc: 11 BCE 1.01\n",
            "Epoc: 12 BCE 1.00\n",
            "Epoc: 13 BCE 0.99\n",
            "Epoc: 14 BCE 0.98\n",
            "Epoc: 15 BCE 0.97\n",
            "Epoc: 16 BCE 0.96\n",
            "Epoc: 17 BCE 0.95\n",
            "Epoc: 18 BCE 0.94\n",
            "Epoc: 19 BCE 0.93\n",
            "Epoc: 20 BCE 0.92\n",
            "Epoc: 21 BCE 0.91\n",
            "Epoc: 22 BCE 0.90\n",
            "Epoc: 23 BCE 0.89\n",
            "Epoc: 24 BCE 0.89\n",
            "Epoc: 25 BCE 0.88\n",
            "Epoc: 26 BCE 0.87\n",
            "Epoc: 27 BCE 0.87\n",
            "Epoc: 28 BCE 0.86\n",
            "Epoc: 29 BCE 0.86\n",
            "Epoc: 30 BCE 0.86\n",
            "Epoc: 31 BCE 0.85\n",
            "Epoc: 32 BCE 0.85\n",
            "Epoc: 33 BCE 0.84\n",
            "Epoc: 34 BCE 0.84\n",
            "Epoc: 35 BCE 0.84\n",
            "Epoc: 36 BCE 0.84\n",
            "Epoc: 37 BCE 0.83\n",
            "Epoc: 38 BCE 0.83\n",
            "Epoc: 39 BCE 0.83\n",
            "Epoc: 40 BCE 0.83\n",
            "Epoc: 41 BCE 0.83\n",
            "Epoc: 42 BCE 0.83\n",
            "Epoc: 43 BCE 0.82\n",
            "Epoc: 44 BCE 0.82\n",
            "Epoc: 45 BCE 0.82\n",
            "Epoc: 46 BCE 0.82\n",
            "Epoc: 47 BCE 0.82\n",
            "Epoc: 48 BCE 0.82\n",
            "Epoc: 49 BCE 0.82\n"
          ]
        }
      ]
    },
    {
      "cell_type": "code",
      "source": [
        "import matplotlib.pyplot as plt\n",
        "plt.plot(range(len(cost)),cost)\n",
        "plt.ylabel('Binary Cross Entropy')\n",
        "plt.xlabel('Epoc')\n",
        "plt.show()"
      ],
      "metadata": {
        "colab": {
          "base_uri": "https://localhost:8080/",
          "height": 279
        },
        "id": "Ysp4styjtBPJ",
        "outputId": "e44c1775-748c-424f-f8a0-b7891b625ec6"
      },
      "execution_count": 12,
      "outputs": [
        {
          "output_type": "display_data",
          "data": {
            "text/plain": [
              "<Figure size 432x288 with 1 Axes>"
            ],
            "image/png": "[encoded data removed]"
          },
          "metadata": {
            "needs_background": "light"
          }
        }
      ]
    },
    {
      "cell_type": "code",
      "source": [
        "from sklearn.metrics import accuracy_score"
      ],
      "metadata": {
        "id": "fpuUWyDOsAie"
      },
      "execution_count": 13,
      "outputs": []
    },
    {
      "cell_type": "code",
      "source": [
        "with torch.no_grad():\n",
        "  train_pred=model(X_train)\n",
        "  #train_pred\n",
        "  train_acc=(torch.argmax(train_pred,dim=1)==y_train).float().mean()\n",
        "  print('Training Accuracy: %.2f' %train_acc)\n",
        "  test_pred=model(X_test)\n",
        "  test_acc=(torch.argmax(test_pred,dim=1)==y_test).float().mean()\n",
        "  print('Testing Accuracy: %.2f' %test_acc)"
      ],
      "metadata": {
        "colab": {
          "base_uri": "https://localhost:8080/"
        },
        "id": "rZMw266gjQHU",
        "outputId": "89f6f4ff-1201-45b1-b883-c4dd123060c7"
      },
      "execution_count": 14,
      "outputs": [
        {
          "output_type": "stream",
          "name": "stdout",
          "text": [
            "Training Accuracy: 0.66\n",
            "Testing Accuracy: 0.70\n"
          ]
        }
      ]
    },
    {
      "cell_type": "code",
      "source": [],
      "metadata": {
        "id": "8G2OfLTfc5XW"
      },
      "execution_count": null,
      "outputs": []
    },
    {
      "cell_type": "markdown",
      "source": [
        "### **Multinomial Logistic Regression**"
      ],
      "metadata": {
        "id": "AGcTfUjYnsSs"
      }
    },
    {
      "cell_type": "code",
      "source": [
        "import torch\n",
        "import torchvision\n",
        "import torchvision.transforms as transforms"
      ],
      "metadata": {
        "id": "5Ig03Icalara"
      },
      "execution_count": 15,
      "outputs": []
    },
    {
      "cell_type": "code",
      "source": [
        "from matplotlib.transforms import Transform\n",
        "transform=transforms.ToTensor()\n",
        "\n",
        "### Data Loading\n",
        "traindata=torchvision.datasets.MNIST(root='./data',train=True,download=True,transform=transform)\n",
        "trainloader=torch.utils.data.DataLoader(traindata,batch_size=32,shuffle=False)\n",
        "\n",
        "testdata=torchvision.datasets.MNIST(root='./data',train=False,download=True,transform=transform)\n",
        "testloader=torch.utils.data.DataLoader(testdata,batch_size=32,shuffle=False)\n"
      ],
      "metadata": {
        "colab": {
          "base_uri": "https://localhost:8080/",
          "height": 443,
          "referenced_widgets": [
            "9a359bbb51b247208a47a951dcb5b3b3",
            "99bb99c1a9474f7a88d6c325c568a738",
            "218e54983e9842b0bb128079e6f53186",
            "2ad49ead56d147afbc0dbc72f82ab5a2",
            "06ed7720d25a4eabbede0310561d73c1",
            "e80de037233a4246bbc1b9f845d1cf93",
            "afe1df4529914b97b939afe5cf2e2105",
            "77fa5bcc3ee641a99358f8aa950a65cc",
            "2835caeef5ba4e398e65f93a638824cf",
            "f1268730cd3f4fa98ce72895779f4cab",
            "e9f34a9c4b184df1b8945f7157d0993f",
            "0932c22eaf9e46048353beefb52561de",
            "30d02c4e14aa432d8975188adb9e5d7f",
            "45829e4a20354debad02e64304982248",
            "9e842ba3920e49fbaee0c4ffd686186c",
            "f1b467734a39458fb6360002d6b21cad",
            "28883ab0b7b1430ba990eb5901a3ad57",
            "28416d194af64a0fa1dc4241740ce229",
            "fa4f838ad6e845a3828631230a4f7cbc",
            "3748a5e0bd6c4a6882e8a193d79a94ea",
            "3de878b332ba455c8130930b8afc2492",
            "38859527a131488e94a50a24c2e5d08c",
            "c92b858d366341b0af36e765491e2acd",
            "d9d51ad4e0f6428caa287beecca13bf1",
            "754d877115b64b77976cff2b111b6356",
            "456b6eccbfe94c8da7a97bde08e0515c",
            "380cfe4a732d4a0298dff07701cfabe0",
            "2387752c392d432680a3f704015d256a",
            "96c7636da9d84f5bad70b806d6d8962f",
            "1bf9ad6bfc6b4c25aad23b7c307bf81c",
            "3881a5c1ea63474c837d0688575aecf8",
            "18641626327447599414803ff2b19904",
            "85cb9f1de4fe4a34a1ec3dd93e8886f1",
            "e5326f5315a844019b9b0534b563ae14",
            "0148443424cc4b7890bcac61ef1565b3",
            "926d35e4955a47c8a89a5b051a97d94b",
            "f625d2977ac6460b9dd5235d37a38673",
            "37602cb30ff34b4a983276a4a8c5894b",
            "0159596dcb7c4888a960f5e2c793fcc4",
            "7b6e9333f50c4e5db0211cb03ef4229d",
            "291c01fb43be40f89d60e964a641895e",
            "7d55788d77614b74abc7eea094f9a782",
            "86c21f4c9e5d4dec8e425b7249ef6694",
            "300a6f40040744ff87a65d6ce246fd35"
          ]
        },
        "id": "Hoxzhwj5n8Rd",
        "outputId": "93d2332e-a00b-4b2f-9c50-f164527310a1"
      },
      "execution_count": 16,
      "outputs": [
        {
          "output_type": "stream",
          "name": "stdout",
          "text": [
            "Downloading http://yann.lecun.com/exdb/mnist/train-images-idx3-ubyte.gz\n",
            "Downloading http://yann.lecun.com/exdb/mnist/train-images-idx3-ubyte.gz to ./data/MNIST/raw/train-images-idx3-ubyte.gz\n"
          ]
        },
        {
          "output_type": "display_data",
          "data": {
            "text/plain": [
              "  0%|          | 0/9912422 [00:00<?, ?it/s]"
            ],
            "application/vnd.jupyter.widget-view+json": {
              "version_major": 2,
              "version_minor": 0,
              "model_id": "9a359bbb51b247208a47a951dcb5b3b3"
            }
          },
          "metadata": {}
        },
        {
          "output_type": "stream",
          "name": "stdout",
          "text": [
            "Extracting ./data/MNIST/raw/train-images-idx3-ubyte.gz to ./data/MNIST/raw\n",
            "\n",
            "Downloading http://yann.lecun.com/exdb/mnist/train-labels-idx1-ubyte.gz\n",
            "Downloading http://yann.lecun.com/exdb/mnist/train-labels-idx1-ubyte.gz to ./data/MNIST/raw/train-labels-idx1-ubyte.gz\n"
          ]
        },
        {
          "output_type": "display_data",
          "data": {
            "text/plain": [
              "  0%|          | 0/28881 [00:00<?, ?it/s]"
            ],
            "application/vnd.jupyter.widget-view+json": {
              "version_major": 2,
              "version_minor": 0,
              "model_id": "0932c22eaf9e46048353beefb52561de"
            }
          },
          "metadata": {}
        },
        {
          "output_type": "stream",
          "name": "stdout",
          "text": [
            "Extracting ./data/MNIST/raw/train-labels-idx1-ubyte.gz to ./data/MNIST/raw\n",
            "\n",
            "Downloading http://yann.lecun.com/exdb/mnist/t10k-images-idx3-ubyte.gz\n",
            "Downloading http://yann.lecun.com/exdb/mnist/t10k-images-idx3-ubyte.gz to ./data/MNIST/raw/t10k-images-idx3-ubyte.gz\n"
          ]
        },
        {
          "output_type": "display_data",
          "data": {
            "text/plain": [
              "  0%|          | 0/1648877 [00:00<?, ?it/s]"
            ],
            "application/vnd.jupyter.widget-view+json": {
              "version_major": 2,
              "version_minor": 0,
              "model_id": "c92b858d366341b0af36e765491e2acd"
            }
          },
          "metadata": {}
        },
        {
          "output_type": "stream",
          "name": "stdout",
          "text": [
            "Extracting ./data/MNIST/raw/t10k-images-idx3-ubyte.gz to ./data/MNIST/raw\n",
            "\n",
            "Downloading http://yann.lecun.com/exdb/mnist/t10k-labels-idx1-ubyte.gz\n",
            "Downloading http://yann.lecun.com/exdb/mnist/t10k-labels-idx1-ubyte.gz to ./data/MNIST/raw/t10k-labels-idx1-ubyte.gz\n"
          ]
        },
        {
          "output_type": "display_data",
          "data": {
            "text/plain": [
              "  0%|          | 0/4542 [00:00<?, ?it/s]"
            ],
            "application/vnd.jupyter.widget-view+json": {
              "version_major": 2,
              "version_minor": 0,
              "model_id": "e5326f5315a844019b9b0534b563ae14"
            }
          },
          "metadata": {}
        },
        {
          "output_type": "stream",
          "name": "stdout",
          "text": [
            "Extracting ./data/MNIST/raw/t10k-labels-idx1-ubyte.gz to ./data/MNIST/raw\n",
            "\n"
          ]
        }
      ]
    },
    {
      "cell_type": "code",
      "source": [
        "import matplotlib.pyplot as plt\n",
        "import numpy as np\n",
        "def imshow(img):\n",
        "  img=img.numpy()\n",
        "  img=np.transpose(img,(1,2,0))\n",
        "  plt.imshow(img)\n",
        "  plt.show()\n"
      ],
      "metadata": {
        "id": "j_KHD4c7rX3Q"
      },
      "execution_count": 17,
      "outputs": []
    },
    {
      "cell_type": "code",
      "source": [
        "dataiter=iter(trainloader)\n",
        "images,labels=next(dataiter)\n",
        "imshow(torchvision.utils.make_grid(images))\n",
        "print(labels)"
      ],
      "metadata": {
        "colab": {
          "base_uri": "https://localhost:8080/",
          "height": 255
        },
        "id": "i3bxmbd6qysk",
        "outputId": "bdf6dc01-17f4-4aea-de0e-0a5772621849"
      },
      "execution_count": 19,
      "outputs": [
        {
          "output_type": "display_data",
          "data": {
            "text/plain": [
              "<Figure size 432x288 with 1 Axes>"
            ],
            "image/png": "[encoded data removed]"
          },
          "metadata": {
            "needs_background": "light"
          }
        },
        {
          "output_type": "stream",
          "name": "stdout",
          "text": [
            "tensor([5, 0, 4, 1, 9, 2, 1, 3, 1, 4, 3, 5, 3, 6, 1, 7, 2, 8, 6, 9, 4, 0, 9, 1,\n",
            "        1, 2, 4, 3, 2, 7, 3, 8])\n"
          ]
        }
      ]
    },
    {
      "cell_type": "code",
      "source": [
        "images.view(images.size(0),-1).shape"
      ],
      "metadata": {
        "colab": {
          "base_uri": "https://localhost:8080/"
        },
        "id": "KrsYYFyke55W",
        "outputId": "dc98ee53-f1ed-4c19-c7c2-28212f9c22c5"
      },
      "execution_count": 20,
      "outputs": [
        {
          "output_type": "execute_result",
          "data": {
            "text/plain": [
              "torch.Size([32, 784])"
            ]
          },
          "metadata": {},
          "execution_count": 20
        }
      ]
    },
    {
      "cell_type": "code",
      "source": [
        "print(images[0].shape)"
      ],
      "metadata": {
        "colab": {
          "base_uri": "https://localhost:8080/"
        },
        "id": "GP7q5F1gs_0U",
        "outputId": "7653d461-7867-4ee0-b1ca-e4eb44661aeb"
      },
      "execution_count": 21,
      "outputs": [
        {
          "output_type": "stream",
          "name": "stdout",
          "text": [
            "torch.Size([1, 28, 28])\n"
          ]
        }
      ]
    },
    {
      "cell_type": "code",
      "source": [
        "import torch.nn as nn\n",
        "import torch.nn.functional as F\n",
        "class LogisticNet(nn.Module):\n",
        "  def __init__(self):\n",
        "    super().__init__()\n",
        "    self.layer1=nn.Linear(1*28*28,100)\n",
        "    self.layer2=nn.Linear(100,30)\n",
        "    self.layer3=nn.Linear(30,10)\n",
        "    \n",
        "  def forward(self,x):\n",
        "    x=F.relu(self.layer1(x))\n",
        "    x=F.relu(self.layer2(x))\n",
        "    x=self.layer3(x)\n",
        "    return x\n",
        "\n",
        "\n",
        "\n",
        "model=LogisticNet()"
      ],
      "metadata": {
        "id": "W7thWGfVsSKj"
      },
      "execution_count": 22,
      "outputs": []
    },
    {
      "cell_type": "code",
      "source": [
        "model"
      ],
      "metadata": {
        "colab": {
          "base_uri": "https://localhost:8080/"
        },
        "id": "7BKjCNWXf2vM",
        "outputId": "d52695e6-e824-4440-bd26-6471dae9405a"
      },
      "execution_count": 23,
      "outputs": [
        {
          "output_type": "execute_result",
          "data": {
            "text/plain": [
              "LogisticNet(\n",
              "  (layer1): Linear(in_features=784, out_features=100, bias=True)\n",
              "  (layer2): Linear(in_features=100, out_features=30, bias=True)\n",
              "  (layer3): Linear(in_features=30, out_features=10, bias=True)\n",
              ")"
            ]
          },
          "metadata": {},
          "execution_count": 23
        }
      ]
    },
    {
      "cell_type": "code",
      "source": [
        "import torch.optim as optim"
      ],
      "metadata": {
        "id": "3KqBCmozGYh7"
      },
      "execution_count": 24,
      "outputs": []
    },
    {
      "cell_type": "code",
      "source": [
        "\n",
        "def train_mnst(model,train_loader,test_loader,EPOCHS=100,lr=.001,seed=32):\n",
        "  torch.manual_seed(seed)\n",
        "  device = torch.device('cuda' if torch.cuda.is_available() else 'cpu')\n",
        "  cost=[]\n",
        "  model.to(device)\n",
        "  optimizer=optim.SGD(model.parameters(),lr=lr)\n",
        "  loss_function=nn.CrossEntropyLoss()\n",
        "  for epoch in range(EPOCHS):\n",
        "\n",
        "    curr_loss=0.0\n",
        "    currect=0.0\n",
        "    t_currect=0.0\n",
        "    for i,data in enumerate(train_loader,0):\n",
        "\n",
        "\n",
        "      ## Get a Batch of Data\n",
        "      input,target=data[0].to(device),data[1].to(device)\n",
        "      ###1. Compute the output\n",
        "     \n",
        "      ###Flatten the input\n",
        "      input=input.view(input.size(0),-1)\n",
        "      yhat=model(input)\n",
        "      \n",
        "      ###2. Compute the loss\n",
        "      loss=loss_function(yhat,target)\n",
        "      \n",
        "\n",
        "      ###3. Compute the gradient\n",
        "\n",
        "      optimizer.zero_grad()\n",
        "      loss.backward()\n",
        "    \n",
        "      ###4. Update the parameters\n",
        "\n",
        "      optimizer.step()\n",
        "      ### Log the record\n",
        "      with torch.no_grad():\n",
        "        yhat=model(input)\n",
        "        err=loss_function(yhat,target)\n",
        "        curr_loss+=err\n",
        "        b_currect=((torch.argmax(yhat,dim=1)==target).sum()).float()\n",
        "      \n",
        "        currect+=b_currect\n",
        "    ### Calculate the accuracy    \n",
        "    with torch.no_grad():\n",
        "      for data in test_loader:\n",
        "          ims,lbs=data[0].to(device),data[1].to(device)\n",
        "          pred=model(ims.view(ims.size(0),-1))\n",
        "          t_currect+=(torch.argmax(pred,dim=1)==lbs).sum()\n",
        "   \n",
        "      print('Current Epoch: %3d' %(epoch+1),end=\"\")\n",
        "      print(' | Loss: %5.2f' %curr_loss,end=\"\")\n",
        "      accuracy=currect.sum()/len(traindata)*100\n",
        "      test_accuracy=t_currect.sum()/len(testdata)*100\n",
        "      #print(currect)\n",
        "      print(' | Accuracy: %.2f' %accuracy,end=\"\")\n",
        "      print(' | Test Accuracy: %.2f' %test_accuracy )\n",
        "  return cost\n",
        "      \n",
        "\n",
        "      \n"
      ],
      "metadata": {
        "id": "JRSpli1GHMRM"
      },
      "execution_count": 25,
      "outputs": []
    },
    {
      "cell_type": "code",
      "source": [
        "cost=train_mnst(model,trainloader,testloader,EPOCHS=50)"
      ],
      "metadata": {
        "colab": {
          "base_uri": "https://localhost:8080/"
        },
        "id": "sf_fgi1Xd-JQ",
        "outputId": "1d68165e-2714-4b88-db61-7f997302c0eb"
      },
      "execution_count": 31,
      "outputs": [
        {
          "output_type": "stream",
          "name": "stdout",
          "text": [
            "Current Epoch:   1 | Loss: 551.73 | Accuracy: 91.62 | Test Accuracy: 91.88\n",
            "Current Epoch:   2 | Loss: 544.33 | Accuracy: 91.70 | Test Accuracy: 91.95\n",
            "Current Epoch:   3 | Loss: 537.18 | Accuracy: 91.83 | Test Accuracy: 92.05\n",
            "Current Epoch:   4 | Loss: 530.23 | Accuracy: 91.92 | Test Accuracy: 92.15\n",
            "Current Epoch:   5 | Loss: 523.46 | Accuracy: 92.02 | Test Accuracy: 92.25\n",
            "Current Epoch:   6 | Loss: 516.81 | Accuracy: 92.13 | Test Accuracy: 92.31\n",
            "Current Epoch:   7 | Loss: 510.29 | Accuracy: 92.24 | Test Accuracy: 92.44\n",
            "Current Epoch:   8 | Loss: 503.90 | Accuracy: 92.36 | Test Accuracy: 92.53\n",
            "Current Epoch:   9 | Loss: 497.67 | Accuracy: 92.42 | Test Accuracy: 92.62\n",
            "Current Epoch:  10 | Loss: 491.54 | Accuracy: 92.52 | Test Accuracy: 92.68\n",
            "Current Epoch:  11 | Loss: 485.50 | Accuracy: 92.59 | Test Accuracy: 92.77\n",
            "Current Epoch:  12 | Loss: 479.56 | Accuracy: 92.69 | Test Accuracy: 92.85\n",
            "Current Epoch:  13 | Loss: 473.70 | Accuracy: 92.80 | Test Accuracy: 92.86\n",
            "Current Epoch:  14 | Loss: 467.95 | Accuracy: 92.90 | Test Accuracy: 92.93\n",
            "Current Epoch:  15 | Loss: 462.30 | Accuracy: 92.98 | Test Accuracy: 93.02\n",
            "Current Epoch:  16 | Loss: 456.77 | Accuracy: 93.06 | Test Accuracy: 93.10\n",
            "Current Epoch:  17 | Loss: 451.37 | Accuracy: 93.15 | Test Accuracy: 93.16\n",
            "Current Epoch:  18 | Loss: 446.07 | Accuracy: 93.24 | Test Accuracy: 93.23\n",
            "Current Epoch:  19 | Loss: 440.86 | Accuracy: 93.33 | Test Accuracy: 93.35\n",
            "Current Epoch:  20 | Loss: 435.75 | Accuracy: 93.38 | Test Accuracy: 93.39\n",
            "Current Epoch:  21 | Loss: 430.75 | Accuracy: 93.45 | Test Accuracy: 93.48\n",
            "Current Epoch:  22 | Loss: 425.84 | Accuracy: 93.54 | Test Accuracy: 93.52\n",
            "Current Epoch:  23 | Loss: 421.04 | Accuracy: 93.63 | Test Accuracy: 93.56\n",
            "Current Epoch:  24 | Loss: 416.33 | Accuracy: 93.69 | Test Accuracy: 93.58\n",
            "Current Epoch:  25 | Loss: 411.70 | Accuracy: 93.75 | Test Accuracy: 93.67\n",
            "Current Epoch:  26 | Loss: 407.15 | Accuracy: 93.81 | Test Accuracy: 93.73\n",
            "Current Epoch:  27 | Loss: 402.70 | Accuracy: 93.88 | Test Accuracy: 93.75\n",
            "Current Epoch:  28 | Loss: 398.31 | Accuracy: 93.93 | Test Accuracy: 93.77\n",
            "Current Epoch:  29 | Loss: 394.00 | Accuracy: 94.01 | Test Accuracy: 93.85\n",
            "Current Epoch:  30 | Loss: 389.79 | Accuracy: 94.08 | Test Accuracy: 93.92\n",
            "Current Epoch:  31 | Loss: 385.66 | Accuracy: 94.15 | Test Accuracy: 93.98\n",
            "Current Epoch:  32 | Loss: 381.61 | Accuracy: 94.21 | Test Accuracy: 94.04\n",
            "Current Epoch:  33 | Loss: 377.64 | Accuracy: 94.27 | Test Accuracy: 94.07\n",
            "Current Epoch:  34 | Loss: 373.73 | Accuracy: 94.32 | Test Accuracy: 94.13\n",
            "Current Epoch:  35 | Loss: 369.89 | Accuracy: 94.37 | Test Accuracy: 94.20\n",
            "Current Epoch:  36 | Loss: 366.13 | Accuracy: 94.42 | Test Accuracy: 94.21\n",
            "Current Epoch:  37 | Loss: 362.42 | Accuracy: 94.50 | Test Accuracy: 94.24\n",
            "Current Epoch:  38 | Loss: 358.79 | Accuracy: 94.56 | Test Accuracy: 94.32\n",
            "Current Epoch:  39 | Loss: 355.22 | Accuracy: 94.61 | Test Accuracy: 94.38\n",
            "Current Epoch:  40 | Loss: 351.73 | Accuracy: 94.67 | Test Accuracy: 94.41\n",
            "Current Epoch:  41 | Loss: 348.29 | Accuracy: 94.73 | Test Accuracy: 94.48\n",
            "Current Epoch:  42 | Loss: 344.91 | Accuracy: 94.77 | Test Accuracy: 94.51\n",
            "Current Epoch:  43 | Loss: 341.58 | Accuracy: 94.82 | Test Accuracy: 94.52\n",
            "Current Epoch:  44 | Loss: 338.31 | Accuracy: 94.89 | Test Accuracy: 94.57\n",
            "Current Epoch:  45 | Loss: 335.10 | Accuracy: 94.93 | Test Accuracy: 94.60\n",
            "Current Epoch:  46 | Loss: 331.94 | Accuracy: 94.98 | Test Accuracy: 94.68\n",
            "Current Epoch:  47 | Loss: 328.82 | Accuracy: 95.01 | Test Accuracy: 94.73\n",
            "Current Epoch:  48 | Loss: 325.75 | Accuracy: 95.05 | Test Accuracy: 94.75\n",
            "Current Epoch:  49 | Loss: 322.74 | Accuracy: 95.09 | Test Accuracy: 94.76\n",
            "Current Epoch:  50 | Loss: 319.76 | Accuracy: 95.13 | Test Accuracy: 94.83\n"
          ]
        }
      ]
    },
    {
      "cell_type": "code",
      "source": [
        "len(traindata)"
      ],
      "metadata": {
        "colab": {
          "base_uri": "https://localhost:8080/"
        },
        "id": "bdZxUSxj4p_G",
        "outputId": "1f365309-fc83-435d-aee7-ec6d19ed8695"
      },
      "execution_count": 32,
      "outputs": [
        {
          "output_type": "execute_result",
          "data": {
            "text/plain": [
              "60000"
            ]
          },
          "metadata": {},
          "execution_count": 32
        }
      ]
    },
    {
      "cell_type": "code",
      "source": [
        "device = torch.device('cuda' if torch.cuda.is_available() else 'cpu')\n",
        "prob=model(images.view(32,-1).to(device))\n",
        "(torch.argmax(prob,dim=1).to('cpu')==labels).sum().float()/32*100"
      ],
      "metadata": {
        "colab": {
          "base_uri": "https://localhost:8080/"
        },
        "id": "U170Hp0Y4a0L",
        "outputId": "d0e7dcb9-cf48-4589-be2d-cc2e12be0fc3"
      },
      "execution_count": 33,
      "outputs": [
        {
          "output_type": "execute_result",
          "data": {
            "text/plain": [
              "tensor(96.8750)"
            ]
          },
          "metadata": {},
          "execution_count": 33
        }
      ]
    }
  ]
}