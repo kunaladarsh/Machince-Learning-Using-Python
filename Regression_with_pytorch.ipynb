{
  "cells": [
    {
      "cell_type": "code",
      "execution_count": 1,
      "metadata": {
        "id": "ZxfzVLDD8pOk"
      },
      "outputs": [],
      "source": [
        "import torch\n",
        "import sklearn"
      ]
    },
    {
      "cell_type": "code",
      "execution_count": 2,
      "metadata": {
        "colab": {
          "base_uri": "https://localhost:8080/"
        },
        "id": "Ychf-Ig284wF",
        "outputId": "e49130d2-5017-492e-c8f4-9ccb87697c03"
      },
      "outputs": [
        {
          "output_type": "execute_result",
          "data": {
            "text/plain": [
              "<torch._C.Generator at 0x7fb2b4c872f0>"
            ]
          },
          "metadata": {},
          "execution_count": 2
        }
      ],
      "source": [
        "from sklearn.datasets import make_classification\n",
        "torch.manual_seed(123)"
      ]
    },
    {
      "cell_type": "code",
      "execution_count": 3,
      "metadata": {
        "id": "1LxdPxns9Ax3"
      },
      "outputs": [],
      "source": [
        "## Make a Toy Dataset\n",
        "X,y=make_classification(n_samples=2000, n_features=4, n_classes=2)\n",
        "\n",
        "### Change it into the Tensor \n",
        "\n",
        "X=torch.tensor(X,dtype=torch.float32)\n",
        "y=torch.tensor(y,dtype=torch.float32)\n"
      ]
    },
    {
      "cell_type": "code",
      "execution_count": 4,
      "metadata": {
        "colab": {
          "base_uri": "https://localhost:8080/"
        },
        "id": "_mO519bvvRdW",
        "outputId": "ce87d742-6a1c-4c7e-8a48-4bd4f6e6cb06"
      },
      "outputs": [
        {
          "output_type": "stream",
          "name": "stderr",
          "text": [
            "<ipython-input-4-e59afa81085a>:1: UserWarning: To copy construct from a tensor, it is recommended to use sourceTensor.clone().detach() or sourceTensor.clone().detach().requires_grad_(True), rather than torch.tensor(sourceTensor).\n",
            "  X=torch.tensor(X,dtype=torch.float32)\n"
          ]
        },
        {
          "output_type": "execute_result",
          "data": {
            "text/plain": [
              "tensor([[ 1.1212,  0.1479,  0.8246, -0.8685],\n",
              "        [-0.2974,  0.3400,  0.8816,  0.2331],\n",
              "        [-1.9745,  0.7853,  1.5823,  1.5369],\n",
              "        ...,\n",
              "        [ 0.9374,  0.3093,  1.2279, -0.7248],\n",
              "        [-1.2990,  0.6074,  1.3044,  1.0118],\n",
              "        [ 1.3005, -0.4396, -0.8169, -1.0118]])"
            ]
          },
          "metadata": {},
          "execution_count": 4
        }
      ],
      "source": [
        "X=torch.tensor(X,dtype=torch.float32)\n",
        "X"
      ]
    },
    {
      "cell_type": "code",
      "execution_count": 5,
      "metadata": {
        "colab": {
          "base_uri": "https://localhost:8080/"
        },
        "id": "iJ2Z-sMXueVY",
        "outputId": "b114225f-1a2e-460e-b49d-7b79d160235d"
      },
      "outputs": [
        {
          "output_type": "stream",
          "name": "stderr",
          "text": [
            "<ipython-input-5-68a9c533288e>:1: UserWarning: To copy construct from a tensor, it is recommended to use sourceTensor.clone().detach() or sourceTensor.clone().detach().requires_grad_(True), rather than torch.tensor(sourceTensor).\n",
            "  y=torch.tensor(y,dtype=torch.float32)\n"
          ]
        },
        {
          "output_type": "execute_result",
          "data": {
            "text/plain": [
              "tensor([1., 1., 1.,  ..., 1., 1., 0.])"
            ]
          },
          "metadata": {},
          "execution_count": 5
        }
      ],
      "source": [
        "y=torch.tensor(y,dtype=torch.float32)\n",
        "y"
      ]
    },
    {
      "cell_type": "code",
      "execution_count": 5,
      "metadata": {
        "id": "y2wplqsNwxHB"
      },
      "outputs": [],
      "source": []
    },
    {
      "cell_type": "code",
      "execution_count": 6,
      "metadata": {
        "colab": {
          "base_uri": "https://localhost:8080/"
        },
        "id": "iW3ACthE9UHy",
        "outputId": "69a185df-ff44-42da-fff1-a3346afdea21"
      },
      "outputs": [
        {
          "output_type": "execute_result",
          "data": {
            "text/plain": [
              "tensor([ 937, 1311,  152,  727,  340, 1465, 1485, 1629,    9,  838])"
            ]
          },
          "metadata": {},
          "execution_count": 6
        }
      ],
      "source": [
        "### Data Suffling\n",
        "torch.manual_seed(10)\n",
        "suffle_idx=torch.randperm(y.size(0),dtype=torch.long)\n",
        "X,y=X[suffle_idx],y[suffle_idx]\n",
        "suffle_idx[:10]"
      ]
    },
    {
      "cell_type": "code",
      "execution_count": 7,
      "metadata": {
        "id": "htyqar_O_gQS"
      },
      "outputs": [],
      "source": [
        "#### Train Test split\n",
        "train_size=int(suffle_idx.size(0)*0.9)\n",
        "train_idx= suffle_idx[:train_size]\n",
        "\n",
        "test_idx=suffle_idx[train_size:]\n",
        "X_train,y_train=X[train_idx],y[train_idx]\n",
        "X_test,y_test=X[test_idx],y[test_idx]"
      ]
    },
    {
      "cell_type": "code",
      "execution_count": 8,
      "metadata": {
        "colab": {
          "base_uri": "https://localhost:8080/"
        },
        "id": "y612znKOZBe1",
        "outputId": "849c842c-e744-44d6-90dc-dcf11709e13a"
      },
      "outputs": [
        {
          "output_type": "execute_result",
          "data": {
            "text/plain": [
              "torch.Size([1800, 4])"
            ]
          },
          "metadata": {},
          "execution_count": 8
        }
      ],
      "source": [
        "X_train.shape"
      ]
    },
    {
      "cell_type": "code",
      "execution_count": 9,
      "metadata": {
        "colab": {
          "base_uri": "https://localhost:8080/"
        },
        "id": "qph9HFKGZE5I",
        "outputId": "ee9f760f-f188-481c-fbb0-2f42e4b5bcf7"
      },
      "outputs": [
        {
          "output_type": "execute_result",
          "data": {
            "text/plain": [
              "torch.Size([200, 4])"
            ]
          },
          "metadata": {},
          "execution_count": 9
        }
      ],
      "source": [
        "X_test.shape"
      ]
    },
    {
      "cell_type": "code",
      "execution_count": 10,
      "metadata": {
        "id": "b6lDzsNjAD6Q"
      },
      "outputs": [],
      "source": [
        "#### Normalize\n",
        "\n",
        "mean,std_dev=X_train.mean(dim=0) ,X_train.std(dim=0)\n",
        "X_train=(X_train-mean)/std_dev\n",
        "X_test=(X_test-mean)/std_dev"
      ]
    },
    {
      "cell_type": "code",
      "execution_count": 11,
      "metadata": {
        "id": "QDGeHX1VDcDG"
      },
      "outputs": [],
      "source": [
        "import torch.nn as nn\n",
        "from torch.autograd import grad"
      ]
    },
    {
      "cell_type": "code",
      "execution_count": 12,
      "metadata": {
        "id": "S5gFo5e-Dkon"
      },
      "outputs": [],
      "source": [
        "class NN():\n",
        "  def __init__(self,n_features):\n",
        "    self.n_features=n_features\n",
        "    self.weight=torch.zeros(size=(n_features,1),dtype=torch.float,requires_grad=True)\n",
        "    self.bias=torch.zeros(1,dtype=torch.float,requires_grad=True)\n",
        "  \n",
        "\n",
        "  def forward(self,x):\n",
        "    output=torch.add(torch.mm(x,self.weight),self.bias)\n",
        "    return output.view(-1)\n",
        "\n",
        "def loss_fn(yhat,y):\n",
        "  return torch.mean((yhat-y)**10)\n"
      ]
    },
    {
      "cell_type": "code",
      "execution_count": 13,
      "metadata": {
        "id": "W4VG658oG6Sk"
      },
      "outputs": [],
      "source": [
        "def train(model,x,y,n_epoch=10,lr=0.001,seed=23,bsz=50):\n",
        "\n",
        "  cost=[]\n",
        "  torch.manual_seed(seed)\n",
        "  for i in range(n_epoch):\n",
        "    suffle_idx=torch.randperm(y.size(0))\n",
        "    batches=torch.split(suffle_idx,bsz)\n",
        "\n",
        "    for idx in batches:\n",
        "\n",
        "      ###1. Compute the output\n",
        "      yhat=model.forward(x[idx])\n",
        "\n",
        "      ###2. Compute the Error\n",
        "      loss=loss_fn(yhat,y[idx])\n",
        "\n",
        "      ###3. Compute the gradient\n",
        "      grad_w=grad(loss,model.weight,retain_graph=True)[0]\n",
        "      grad_b=grad(loss,model.bias)[0]\n",
        "\n",
        "      ###4. Update Model Parameters\n",
        "      model.weight=model.weight-lr*grad_w\n",
        "      model.bias=model.bias-lr*grad_b\n",
        "\n",
        "    ###5. Log and print the loss\n",
        "    with torch.no_grad():\n",
        "      yhat=model.forward(x)\n",
        "      curr_loss=loss_fn(yhat,y)\n",
        "      print('Epoc: %3d ' % (i+1),end=\"\")\n",
        "      print('| MSE % .5f' % curr_loss)\n",
        "      cost.append(curr_loss)\n",
        "      \n",
        "  return cost\n",
        "\n",
        "\n"
      ]
    },
    {
      "cell_type": "code",
      "execution_count": 14,
      "metadata": {
        "colab": {
          "base_uri": "https://localhost:8080/"
        },
        "id": "pg5M3m31Fo39",
        "outputId": "01671515-cc81-4456-c572-7e9c84e816c8"
      },
      "outputs": [
        {
          "output_type": "stream",
          "name": "stdout",
          "text": [
            "Epoc:   1 | MSE  0.12259\n",
            "Epoc:   2 | MSE  0.07369\n",
            "Epoc:   3 | MSE  0.05274\n",
            "Epoc:   4 | MSE  0.04093\n",
            "Epoc:   5 | MSE  0.03330\n",
            "Epoc:   6 | MSE  0.02796\n",
            "Epoc:   7 | MSE  0.02402\n",
            "Epoc:   8 | MSE  0.02100\n",
            "Epoc:   9 | MSE  0.01861\n",
            "Epoc:  10 | MSE  0.01667\n",
            "Epoc:  11 | MSE  0.01507\n",
            "Epoc:  12 | MSE  0.01374\n",
            "Epoc:  13 | MSE  0.01260\n",
            "Epoc:  14 | MSE  0.01163\n",
            "Epoc:  15 | MSE  0.01078\n",
            "Epoc:  16 | MSE  0.01004\n",
            "Epoc:  17 | MSE  0.00939\n",
            "Epoc:  18 | MSE  0.00881\n",
            "Epoc:  19 | MSE  0.00829\n",
            "Epoc:  20 | MSE  0.00782\n",
            "Epoc:  21 | MSE  0.00740\n",
            "Epoc:  22 | MSE  0.00702\n",
            "Epoc:  23 | MSE  0.00668\n",
            "Epoc:  24 | MSE  0.00636\n",
            "Epoc:  25 | MSE  0.00607\n",
            "Epoc:  26 | MSE  0.00580\n",
            "Epoc:  27 | MSE  0.00556\n",
            "Epoc:  28 | MSE  0.00533\n",
            "Epoc:  29 | MSE  0.00512\n",
            "Epoc:  30 | MSE  0.00492\n",
            "Epoc:  31 | MSE  0.00474\n",
            "Epoc:  32 | MSE  0.00457\n",
            "Epoc:  33 | MSE  0.00441\n",
            "Epoc:  34 | MSE  0.00426\n",
            "Epoc:  35 | MSE  0.00412\n",
            "Epoc:  36 | MSE  0.00399\n",
            "Epoc:  37 | MSE  0.00386\n",
            "Epoc:  38 | MSE  0.00375\n",
            "Epoc:  39 | MSE  0.00363\n",
            "Epoc:  40 | MSE  0.00353\n",
            "Epoc:  41 | MSE  0.00343\n",
            "Epoc:  42 | MSE  0.00334\n",
            "Epoc:  43 | MSE  0.00325\n",
            "Epoc:  44 | MSE  0.00316\n",
            "Epoc:  45 | MSE  0.00308\n",
            "Epoc:  46 | MSE  0.00300\n",
            "Epoc:  47 | MSE  0.00293\n",
            "Epoc:  48 | MSE  0.00286\n",
            "Epoc:  49 | MSE  0.00279\n",
            "Epoc:  50 | MSE  0.00273\n",
            "Epoc:  51 | MSE  0.00266\n",
            "Epoc:  52 | MSE  0.00261\n",
            "Epoc:  53 | MSE  0.00255\n",
            "Epoc:  54 | MSE  0.00249\n",
            "Epoc:  55 | MSE  0.00244\n",
            "Epoc:  56 | MSE  0.00239\n",
            "Epoc:  57 | MSE  0.00234\n",
            "Epoc:  58 | MSE  0.00230\n",
            "Epoc:  59 | MSE  0.00225\n",
            "Epoc:  60 | MSE  0.00221\n",
            "Epoc:  61 | MSE  0.00217\n",
            "Epoc:  62 | MSE  0.00213\n",
            "Epoc:  63 | MSE  0.00209\n",
            "Epoc:  64 | MSE  0.00206\n",
            "Epoc:  65 | MSE  0.00202\n",
            "Epoc:  66 | MSE  0.00198\n",
            "Epoc:  67 | MSE  0.00195\n",
            "Epoc:  68 | MSE  0.00192\n",
            "Epoc:  69 | MSE  0.00189\n",
            "Epoc:  70 | MSE  0.00186\n",
            "Epoc:  71 | MSE  0.00183\n",
            "Epoc:  72 | MSE  0.00180\n",
            "Epoc:  73 | MSE  0.00177\n",
            "Epoc:  74 | MSE  0.00175\n",
            "Epoc:  75 | MSE  0.00172\n",
            "Epoc:  76 | MSE  0.00170\n",
            "Epoc:  77 | MSE  0.00167\n",
            "Epoc:  78 | MSE  0.00165\n",
            "Epoc:  79 | MSE  0.00163\n",
            "Epoc:  80 | MSE  0.00160\n",
            "Epoc:  81 | MSE  0.00158\n",
            "Epoc:  82 | MSE  0.00156\n",
            "Epoc:  83 | MSE  0.00154\n",
            "Epoc:  84 | MSE  0.00152\n",
            "Epoc:  85 | MSE  0.00150\n",
            "Epoc:  86 | MSE  0.00148\n",
            "Epoc:  87 | MSE  0.00146\n",
            "Epoc:  88 | MSE  0.00145\n",
            "Epoc:  89 | MSE  0.00143\n",
            "Epoc:  90 | MSE  0.00141\n",
            "Epoc:  91 | MSE  0.00140\n",
            "Epoc:  92 | MSE  0.00138\n",
            "Epoc:  93 | MSE  0.00136\n",
            "Epoc:  94 | MSE  0.00135\n",
            "Epoc:  95 | MSE  0.00133\n",
            "Epoc:  96 | MSE  0.00132\n",
            "Epoc:  97 | MSE  0.00131\n",
            "Epoc:  98 | MSE  0.00129\n",
            "Epoc:  99 | MSE  0.00128\n",
            "Epoc: 100 | MSE  0.00127\n"
          ]
        }
      ],
      "source": [
        "model=NN(X_train.size(1))\n",
        "cost=train(model,X_train,y_train,n_epoch=100)"
      ]
    },
    {
      "cell_type": "code",
      "execution_count": 15,
      "metadata": {
        "colab": {
          "base_uri": "https://localhost:8080/",
          "height": 279
        },
        "id": "AUiMMWXeX2X6",
        "outputId": "b4d9861c-113c-4a63-ac24-9cdc4d759d81"
      },
      "outputs": [
        {
          "output_type": "display_data",
          "data": {
            "text/plain": [
              "<Figure size 432x288 with 1 Axes>"
            ],
            "image/png": "[encoded data removed]"
          },
          "metadata": {
            "needs_background": "light"
          }
        }
      ],
      "source": [
        "import matplotlib.pyplot as plt\n",
        "plt.plot(range(len(cost)),cost)\n",
        "plt.xlabel('Mean Sqare Error')\n",
        "plt.ylabel('Epoc')\n",
        "plt.show()"
      ]
    },
    {
      "cell_type": "code",
      "execution_count": 16,
      "metadata": {
        "colab": {
          "base_uri": "https://localhost:8080/"
        },
        "id": "noMdRIQnY2yD",
        "outputId": "8b22973b-2910-49e9-fb9a-cf93c14a4705"
      },
      "outputs": [
        {
          "output_type": "stream",
          "name": "stdout",
          "text": [
            "Training Accuracy: 52.22\n",
            "Testing Accuracy: 69.00\n"
          ]
        }
      ],
      "source": [
        "ones=torch.ones(y_train.size())\n",
        "zero=torch.zeros(y_train.size())\n",
        "train_pred=model.forward(X_train)\n",
        "train_acc=torch.mean((  \n",
        "    torch.where(train_pred > 0.6,\n",
        "                ones,zero).int()==y_train).float())\n",
        "\n",
        "\n",
        "ones=torch.ones(y_test.size())\n",
        "zeros=torch.zeros(y_test.size())\n",
        "test_pred=model.forward(X_test)\n",
        "test_acc=torch.mean((torch.where(test_pred> 0.5,ones,zeros).int()==y_test).float())\n",
        "\n",
        "print('Training Accuracy: %.2f' % (train_acc*100))\n",
        "print('Testing Accuracy: %.2f' % (test_acc*100))\n"
      ]
    },
    {
      "cell_type": "markdown",
      "metadata": {
        "id": "0jE4vxUqhE9S"
      },
      "source": [
        "### Model Using Pytorch"
      ]
    },
    {
      "cell_type": "code",
      "execution_count": 17,
      "metadata": {
        "id": "y3lKWHDh3Z2E"
      },
      "outputs": [],
      "source": [
        "import torch\n",
        "import sklearn\n",
        "import torch.nn.functional as F"
      ]
    },
    {
      "cell_type": "code",
      "execution_count": 18,
      "metadata": {
        "id": "mIvsPBpi3exX"
      },
      "outputs": [],
      "source": [
        "from sklearn.datasets import make_classification\n",
        "from sklearn.model_selection import train_test_split\n",
        "from sklearn.preprocessing import StandardScaler"
      ]
    },
    {
      "cell_type": "code",
      "execution_count": 19,
      "metadata": {
        "id": "1JIHbj2035fP"
      },
      "outputs": [],
      "source": [
        "### Create The dataset\n",
        "X,y=make_classification(n_samples=1000,n_classes=2,n_features=4)\n",
        "\n",
        "### Normalize the Data\n",
        "scaler=StandardScaler()\n",
        "X=scaler.fit_transform(X)\n",
        "\n",
        "### Array to Tensor\n",
        "X=torch.tensor(X,dtype=torch.float32)\n",
        "y=torch.tensor(y,dtype=torch.float32)"
      ]
    },
    {
      "cell_type": "code",
      "execution_count": 20,
      "metadata": {
        "colab": {
          "base_uri": "https://localhost:8080/"
        },
        "id": "vOTlEa224ok7",
        "outputId": "3c85320d-db74-442e-e98a-e70222b47726"
      },
      "outputs": [
        {
          "output_type": "stream",
          "name": "stdout",
          "text": [
            "torch.Size([500, 4])\n"
          ]
        }
      ],
      "source": [
        "X_train,X_test,y_train,y_test=train_test_split(X,y,test_size=.5, random_state=25)\n",
        "print(X_train.shape)"
      ]
    },
    {
      "cell_type": "code",
      "source": [
        "print(X_test.shape)"
      ],
      "metadata": {
        "colab": {
          "base_uri": "https://localhost:8080/"
        },
        "id": "5WJQOnP-LKN6",
        "outputId": "487ed5cc-5422-4bb4-81f2-0e102e87dfb7"
      },
      "execution_count": 21,
      "outputs": [
        {
          "output_type": "stream",
          "name": "stdout",
          "text": [
            "torch.Size([500, 4])\n"
          ]
        }
      ]
    },
    {
      "cell_type": "code",
      "execution_count": 22,
      "metadata": {
        "id": "DNSgj7UkhIIK"
      },
      "outputs": [],
      "source": [
        "class NNpt(nn.Module):\n",
        "  def __init__(self,n_features):\n",
        "    super(NNpt,self).__init__()\n",
        "    self.linear=nn.Linear(n_features,1)\n",
        "\n",
        "    self.linear.weight.detach().zero_()\n",
        "    self.linear.bias.detach().zero_()\n",
        "\n",
        "\n",
        "  def forward(self,x):\n",
        "    out=self.linear(x)\n",
        "    return out.view(-1)    "
      ]
    },
    {
      "cell_type": "code",
      "execution_count": 23,
      "metadata": {
        "id": "HQNqqR33nsLH"
      },
      "outputs": [],
      "source": [
        "def train(model,x,y,n_epoch=10,lr=0.001,seed=23,bsz=50):\n",
        "\n",
        "  cost=[]\n",
        "  torch.manual_seed(seed)\n",
        "   ### Optimizer\n",
        "  optimizer=torch.optim.SGD(model.parameters(),lr=lr)\n",
        "  for i in range(n_epoch):\n",
        "    suffle_idx=torch.randperm(y.size(0))\n",
        "    batches=torch.split(suffle_idx,bsz)\n",
        "\n",
        "    for idx in batches:\n",
        "      ###1. Compute the Output\n",
        "      yhat=model.forward(x[idx])\n",
        "\n",
        "      ###2. Compute the Loss\n",
        "      loss=torch.nn.functional.mse_loss(yhat,y[idx])\n",
        "\n",
        "      ###3. Compute the Gradients\n",
        "      optimizer.zero_grad()\n",
        "      loss.backward()\n",
        "\n",
        "      ###4. Update the Model Parameters\n",
        "      optimizer.step()\n",
        "\n",
        "      #model.weight=model.weight-lr*grad_w\n",
        "      #model.bias=model.bias-lr*grad_b\n",
        "\n",
        "    ###5. Log and print the Loss\n",
        "    with torch.no_grad():\n",
        "      yhat=model.forward(x)\n",
        "      curr_loss=loss_fn(yhat,y)\n",
        "      print('Epoc: %3d ' % (i+1),end=\"\")\n",
        "      print('| MSE % .5f' % curr_loss)\n",
        "      cost.append(curr_loss)\n",
        "      \n",
        "  return cost"
      ]
    },
    {
      "cell_type": "code",
      "execution_count": 24,
      "metadata": {
        "id": "sPFjue7WlmW-"
      },
      "outputs": [],
      "source": [
        "n_feature=X_train.size(1)\n",
        "model=NNpt(n_features=n_feature)\n"
      ]
    },
    {
      "cell_type": "code",
      "execution_count": 25,
      "metadata": {
        "colab": {
          "base_uri": "https://localhost:8080/"
        },
        "id": "li9AFeIanQZS",
        "outputId": "6548b0e1-1daa-45be-a410-2d9169e5e938"
      },
      "outputs": [
        {
          "output_type": "stream",
          "name": "stdout",
          "text": [
            "Epoc:   1 | MSE  0.42916\n",
            "Epoc:   2 | MSE  0.35085\n",
            "Epoc:   3 | MSE  0.29075\n",
            "Epoc:   4 | MSE  0.24423\n",
            "Epoc:   5 | MSE  0.20796\n",
            "Epoc:   6 | MSE  0.17948\n",
            "Epoc:   7 | MSE  0.15697\n",
            "Epoc:   8 | MSE  0.13909\n",
            "Epoc:   9 | MSE  0.12482\n",
            "Epoc:  10 | MSE  0.11338\n",
            "Epoc:  11 | MSE  0.10420\n",
            "Epoc:  12 | MSE  0.09681\n",
            "Epoc:  13 | MSE  0.09086\n",
            "Epoc:  14 | MSE  0.08608\n",
            "Epoc:  15 | MSE  0.08224\n",
            "Epoc:  16 | MSE  0.07917\n",
            "Epoc:  17 | MSE  0.07673\n",
            "Epoc:  18 | MSE  0.07481\n",
            "Epoc:  19 | MSE  0.07332\n",
            "Epoc:  20 | MSE  0.07217\n",
            "Epoc:  21 | MSE  0.07130\n",
            "Epoc:  22 | MSE  0.07066\n",
            "Epoc:  23 | MSE  0.07022\n",
            "Epoc:  24 | MSE  0.06991\n",
            "Epoc:  25 | MSE  0.06973\n",
            "Epoc:  26 | MSE  0.06966\n",
            "Epoc:  27 | MSE  0.06966\n",
            "Epoc:  28 | MSE  0.06970\n",
            "Epoc:  29 | MSE  0.06978\n",
            "Epoc:  30 | MSE  0.06990\n",
            "Epoc:  31 | MSE  0.07002\n",
            "Epoc:  32 | MSE  0.07014\n",
            "Epoc:  33 | MSE  0.07026\n",
            "Epoc:  34 | MSE  0.07039\n",
            "Epoc:  35 | MSE  0.07049\n",
            "Epoc:  36 | MSE  0.07059\n",
            "Epoc:  37 | MSE  0.07065\n",
            "Epoc:  38 | MSE  0.07071\n",
            "Epoc:  39 | MSE  0.07073\n",
            "Epoc:  40 | MSE  0.07073\n",
            "Epoc:  41 | MSE  0.07070\n",
            "Epoc:  42 | MSE  0.07065\n",
            "Epoc:  43 | MSE  0.07057\n",
            "Epoc:  44 | MSE  0.07047\n",
            "Epoc:  45 | MSE  0.07033\n",
            "Epoc:  46 | MSE  0.07017\n",
            "Epoc:  47 | MSE  0.07000\n",
            "Epoc:  48 | MSE  0.06979\n",
            "Epoc:  49 | MSE  0.06954\n",
            "Epoc:  50 | MSE  0.06928\n"
          ]
        }
      ],
      "source": [
        "cost=train(model,X_train,y_train,n_epoch=50)"
      ]
    },
    {
      "cell_type": "code",
      "execution_count": 26,
      "metadata": {
        "colab": {
          "base_uri": "https://localhost:8080/",
          "height": 296
        },
        "id": "U7FElcjK6m8I",
        "outputId": "413f1515-58c5-438a-f5dd-dad2e5324d88"
      },
      "outputs": [
        {
          "output_type": "execute_result",
          "data": {
            "text/plain": [
              "[]"
            ]
          },
          "metadata": {},
          "execution_count": 26
        },
        {
          "output_type": "display_data",
          "data": {
            "text/plain": [
              "<Figure size 432x288 with 1 Axes>"
            ],
            "image/png": "[encoded data removed]"
          },
          "metadata": {
            "needs_background": "light"
          }
        }
      ],
      "source": [
        "plt.plot(range(len(cost)),cost)\n",
        "plt.xlabel('No of Epochs')\n",
        "plt.ylabel('Mean Squared Error')\n",
        "plt.plot()"
      ]
    },
    {
      "cell_type": "code",
      "execution_count": 27,
      "metadata": {
        "colab": {
          "base_uri": "https://localhost:8080/"
        },
        "id": "gb4XmG8W7UjJ",
        "outputId": "115951e5-e557-44c3-d6bb-62ac978cc8da"
      },
      "outputs": [
        {
          "output_type": "stream",
          "name": "stdout",
          "text": [
            "Training Accuracy : 0.82\n",
            "Testing Accuracy: 0.85\n"
          ]
        }
      ],
      "source": [
        "ones=torch.ones(y_train.size(0))\n",
        "zero=torch.zeros(y_train.size(0))\n",
        "train_pred=model.forward(X_train)\n",
        "\n",
        "train_acc=torch.mean((torch.where( train_pred >0.5 , ones,zero).int()==y_train).float())\n",
        "#print(train_acc)\n",
        "\n",
        "ones=torch.ones(y_test.size(0))\n",
        "zero=torch.zeros(y_test.size(0))\n",
        "test_pred=model.forward(X_test)\n",
        "\n",
        "test_acc=torch.mean((torch.where( test_pred >0.5 , ones,zero).int()==y_test).float())\n",
        "print('Training Accuracy : %.2f' % train_acc)\n",
        "print('Testing Accuracy: %.2f' % test_acc)"
      ]
    },
    {
      "cell_type": "markdown",
      "metadata": {
        "id": "Jw4-SmjGAwKw"
      },
      "source": [
        "### Logistic Regression"
      ]
    },
    {
      "cell_type": "code",
      "execution_count": 28,
      "metadata": {
        "id": "fOvf9DILA0Vt"
      },
      "outputs": [],
      "source": [
        "def train(model,x,y,n_epoch=10,lr=0.001,seed=23,bsz=50):\n",
        "\n",
        "  cost=[]\n",
        "  torch.manual_seed(seed)\n",
        "   ### Optimizer\n",
        "  optimizer=torch.optim.SGD(model.parameters(),lr=lr)\n",
        "  for i in range(n_epoch):\n",
        "    suffle_idx=torch.randperm(y.size(0))\n",
        "    batches=torch.split(suffle_idx,bsz)\n",
        "\n",
        "    for idx in batches:\n",
        "      ###1. Compute the Output\n",
        "      yhat=model.forward(x[idx])\n",
        "\n",
        "      ###2. Compute the Loss\n",
        "      loss=torch.nn.functional.binary_cross_entropy(torch.sigmoid(yhat),y[idx])\n",
        "\n",
        "      ###3. Compute the Gradients\n",
        "      optimizer.zero_grad()\n",
        "      loss.backward()\n",
        "\n",
        "      ###4. Update the Model Parameters\n",
        "      optimizer.step()\n",
        "\n",
        "      #model.weight=model.weight-lr*grad_w\n",
        "      #model.bias=model.bias-lr*grad_b\n",
        "\n",
        "    ###5. Log and print the Loss\n",
        "    with torch.no_grad():\n",
        "      yhat=model.forward(x)\n",
        "      curr_loss=loss_fn(yhat,y)\n",
        "      print('Epoc: %3d ' % (i+1),end=\"\")\n",
        "      print('| MSE % .5f' % curr_loss)\n",
        "      cost.append(curr_loss)\n",
        "      \n",
        "  return cost"
      ]
    },
    {
      "cell_type": "code",
      "execution_count": 29,
      "metadata": {
        "id": "PIUIMhifBawi"
      },
      "outputs": [],
      "source": [
        "n_feature=X_train.size(1)\n",
        "model=NNpt(n_features=n_feature)\n"
      ]
    },
    {
      "cell_type": "code",
      "execution_count": 30,
      "metadata": {
        "colab": {
          "base_uri": "https://localhost:8080/"
        },
        "id": "0C-2cXsdBdVJ",
        "outputId": "d7e07558-4fc6-4da5-a327-1f7ea75f0936"
      },
      "outputs": [
        {
          "output_type": "stream",
          "name": "stdout",
          "text": [
            "Epoc:   1 | MSE  0.50227\n",
            "Epoc:   2 | MSE  0.47541\n",
            "Epoc:   3 | MSE  0.45117\n",
            "Epoc:   4 | MSE  0.42932\n",
            "Epoc:   5 | MSE  0.40965\n",
            "Epoc:   6 | MSE  0.39199\n",
            "Epoc:   7 | MSE  0.37617\n",
            "Epoc:   8 | MSE  0.36205\n",
            "Epoc:   9 | MSE  0.34949\n",
            "Epoc:  10 | MSE  0.33840\n",
            "Epoc:  11 | MSE  0.32866\n",
            "Epoc:  12 | MSE  0.32020\n",
            "Epoc:  13 | MSE  0.31293\n",
            "Epoc:  14 | MSE  0.30680\n",
            "Epoc:  15 | MSE  0.30173\n",
            "Epoc:  16 | MSE  0.29770\n",
            "Epoc:  17 | MSE  0.29465\n",
            "Epoc:  18 | MSE  0.29255\n",
            "Epoc:  19 | MSE  0.29138\n",
            "Epoc:  20 | MSE  0.29111\n",
            "Epoc:  21 | MSE  0.29173\n",
            "Epoc:  22 | MSE  0.29323\n",
            "Epoc:  23 | MSE  0.29561\n",
            "Epoc:  24 | MSE  0.29886\n",
            "Epoc:  25 | MSE  0.30299\n",
            "Epoc:  26 | MSE  0.30801\n",
            "Epoc:  27 | MSE  0.31393\n",
            "Epoc:  28 | MSE  0.32077\n",
            "Epoc:  29 | MSE  0.32854\n",
            "Epoc:  30 | MSE  0.33726\n",
            "Epoc:  31 | MSE  0.34697\n",
            "Epoc:  32 | MSE  0.35770\n",
            "Epoc:  33 | MSE  0.36946\n",
            "Epoc:  34 | MSE  0.38232\n",
            "Epoc:  35 | MSE  0.39628\n",
            "Epoc:  36 | MSE  0.41142\n",
            "Epoc:  37 | MSE  0.42775\n",
            "Epoc:  38 | MSE  0.44534\n",
            "Epoc:  39 | MSE  0.46424\n",
            "Epoc:  40 | MSE  0.48449\n",
            "Epoc:  41 | MSE  0.50615\n",
            "Epoc:  42 | MSE  0.52928\n",
            "Epoc:  43 | MSE  0.55394\n",
            "Epoc:  44 | MSE  0.58021\n",
            "Epoc:  45 | MSE  0.60813\n",
            "Epoc:  46 | MSE  0.63779\n",
            "Epoc:  47 | MSE  0.66926\n",
            "Epoc:  48 | MSE  0.70260\n",
            "Epoc:  49 | MSE  0.73791\n",
            "Epoc:  50 | MSE  0.77526\n"
          ]
        }
      ],
      "source": [
        "cost=train(model,X_train,y_train,n_epoch=50)"
      ]
    },
    {
      "cell_type": "code",
      "execution_count": 31,
      "metadata": {
        "colab": {
          "base_uri": "https://localhost:8080/",
          "height": 296
        },
        "id": "Poh0lJYHBzdN",
        "outputId": "1c60272c-da34-47a2-ae0b-76f0f8fb6d21"
      },
      "outputs": [
        {
          "output_type": "execute_result",
          "data": {
            "text/plain": [
              "[]"
            ]
          },
          "metadata": {},
          "execution_count": 31
        },
        {
          "output_type": "display_data",
          "data": {
            "text/plain": [
              "<Figure size 432x288 with 1 Axes>"
            ],
            "image/png": "[encoded data removed]"
          },
          "metadata": {
            "needs_background": "light"
          }
        }
      ],
      "source": [
        "plt.plot(range(len(cost)),cost)\n",
        "plt.xlabel('No of Epochs')\n",
        "plt.ylabel('Mean Squared Error')\n",
        "plt.plot()"
      ]
    },
    {
      "cell_type": "code",
      "execution_count": 32,
      "metadata": {
        "colab": {
          "base_uri": "https://localhost:8080/"
        },
        "id": "AwaMm8VzCmgc",
        "outputId": "0210e407-a297-40ef-fa47-d2a3901d9ab4"
      },
      "outputs": [
        {
          "output_type": "stream",
          "name": "stdout",
          "text": [
            "Training Accuracy : 0.55\n",
            "Testing Accuracy: 0.60\n"
          ]
        }
      ],
      "source": [
        "ones=torch.ones(y_train.size(0))\n",
        "zero=torch.zeros(y_train.size(0))\n",
        "train_pred=model.forward(X_train)\n",
        "\n",
        "train_acc=torch.mean((torch.where( train_pred >0.5 , ones,zero).int()==y_train).float())\n",
        "#print(train_acc)\n",
        "\n",
        "ones=torch.ones(y_test.size(0))\n",
        "zero=torch.zeros(y_test.size(0))\n",
        "test_pred=model.forward(X_test)\n",
        "\n",
        "test_acc=torch.mean((torch.where( test_pred >0.5 , ones,zero).int()==y_test).float())\n",
        "print('Training Accuracy : %.2f' % train_acc)\n",
        "print('Testing Accuracy: %.2f' % test_acc)"
      ]
    }
  ],
  "metadata": {
    "colab": {
      "provenance": []
    },
    "kernelspec": {
      "display_name": "Python 3",
      "name": "python3"
    },
    "language_info": {
      "name": "python"
    }
  },
  "nbformat": 4,
  "nbformat_minor": 0
}